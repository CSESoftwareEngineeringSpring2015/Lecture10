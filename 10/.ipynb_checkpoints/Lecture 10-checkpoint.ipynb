{
 "metadata": {
  "name": "",
  "signature": "sha256:9a1ba67c8d14e8c2bbf3b3a135cb8c71081e65641c43aaa64128d2206e27caab"
 },
 "nbformat": 3,
 "nbformat_minor": 0,
 "worksheets": [
  {
   "cells": [
    {
     "cell_type": "code",
     "collapsed": false,
     "input": [
      "%matplotlib inline"
     ],
     "language": "python",
     "metadata": {},
     "outputs": [],
     "prompt_number": 23
    },
    {
     "cell_type": "code",
     "collapsed": false,
     "input": [
      "from pylab import *"
     ],
     "language": "python",
     "metadata": {},
     "outputs": [],
     "prompt_number": 24
    },
    {
     "cell_type": "code",
     "collapsed": false,
     "input": [
      "import random"
     ],
     "language": "python",
     "metadata": {},
     "outputs": [],
     "prompt_number": 32
    },
    {
     "cell_type": "code",
     "collapsed": false,
     "input": [
      "random.uniform(-1,1)"
     ],
     "language": "python",
     "metadata": {},
     "outputs": [
      {
       "metadata": {},
       "output_type": "pyout",
       "prompt_number": 33,
       "text": [
        "-0.023590400380141707"
       ]
      }
     ],
     "prompt_number": 33
    },
    {
     "cell_type": "code",
     "collapsed": false,
     "input": [
      "x = [0.5*r for r in range(1,20)]\n",
      "raw_data = [1-exp(-0.5*r) + random.uniform(-0.05, 0.05) for r in x]\n",
      "fitted_data = [1-exp(-0.5*r) for r in x]\n",
      "plot(x, raw_data, 'b o', x, fitted_data, 'r--')\n",
      "axis([0, 10, 0, 1.2])\n",
      "xlabel(\"Time\", {'size': 20})\n",
      "ylabel(\"V\", {'size': 20})\n",
      "show()"
     ],
     "language": "python",
     "metadata": {},
     "outputs": [
      {
       "metadata": {},
       "output_type": "display_data",
       "png": "[encoded data removed]",
       "text": [
        "<matplotlib.figure.Figure at 0x10d4d2c90>"
       ]
      }
     ],
     "prompt_number": 48
    }
   ],
   "metadata": {}
  }
 ]
}