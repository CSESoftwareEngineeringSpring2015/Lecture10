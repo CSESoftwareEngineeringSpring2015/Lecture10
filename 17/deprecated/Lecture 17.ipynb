{
 "metadata": {
  "name": "",
  "signature": "sha256:dcd855b84054e3579a255b8ccdf23b3ac7c9b773984251723c3a431b23220214"
 },
 "nbformat": 3,
 "nbformat_minor": 0,
 "worksheets": [
  {
   "cells": [
    {
     "cell_type": "heading",
     "level": 1,
     "metadata": {},
     "source": [
      "Polynomials"
     ]
    },
    {
     "cell_type": "code",
     "collapsed": false,
     "input": [
      "import scipy as s"
     ],
     "language": "python",
     "metadata": {},
     "outputs": [],
     "prompt_number": 1
    },
    {
     "cell_type": "code",
     "collapsed": false,
     "input": [
      "poly = s.poly1d([1,2,3])"
     ],
     "language": "python",
     "metadata": {},
     "outputs": [],
     "prompt_number": 5
    },
    {
     "cell_type": "code",
     "collapsed": false,
     "input": [
      "poly"
     ],
     "language": "python",
     "metadata": {},
     "outputs": [
      {
       "metadata": {},
       "output_type": "pyout",
       "prompt_number": 6,
       "text": [
        "poly1d([1, 2, 3])"
       ]
      }
     ],
     "prompt_number": 6
    },
    {
     "cell_type": "code",
     "collapsed": false,
     "input": [
      "print poly"
     ],
     "language": "python",
     "metadata": {},
     "outputs": [
      {
       "output_type": "stream",
       "stream": "stdout",
       "text": [
        "   2\n",
        "1 x + 2 x + 3\n"
       ]
      }
     ],
     "prompt_number": 7
    },
    {
     "cell_type": "code",
     "collapsed": false,
     "input": [
      "another_poly = s.poly1d([3, 1, 0, 2])"
     ],
     "language": "python",
     "metadata": {},
     "outputs": [],
     "prompt_number": 9
    },
    {
     "cell_type": "heading",
     "level": 1,
     "metadata": {},
     "source": [
      "print another_poly"
     ]
    },
    {
     "cell_type": "code",
     "collapsed": false,
     "input": [
      "print poly*another_poly"
     ],
     "language": "python",
     "metadata": {},
     "outputs": [
      {
       "output_type": "stream",
       "stream": "stdout",
       "text": [
        "   5     4      3     2\n",
        "3 x + 7 x + 11 x + 5 x + 4 x + 6\n"
       ]
      }
     ],
     "prompt_number": 11
    },
    {
     "cell_type": "code",
     "collapsed": false,
     "input": [
      "big_poly = poly*another_poly"
     ],
     "language": "python",
     "metadata": {},
     "outputs": [],
     "prompt_number": 13
    },
    {
     "cell_type": "code",
     "collapsed": false,
     "input": [
      "print big_poly.deriv()"
     ],
     "language": "python",
     "metadata": {},
     "outputs": [
      {
       "output_type": "stream",
       "stream": "stdout",
       "text": [
        "    4      3      2\n",
        "15 x + 28 x + 33 x + 10 x + 4\n"
       ]
      }
     ],
     "prompt_number": 16
    },
    {
     "cell_type": "heading",
     "level": 1,
     "metadata": {},
     "source": [
      "Linear Differential Equations"
     ]
    },
    {
     "cell_type": "code",
     "collapsed": false,
     "input": [
      "import numpy as n\n",
      "import sys\n",
      "from scipy.integrate import odeint  \n",
      "from scipy.special import gamma, airy \n",
      "y1_0 = 1.0/3**(2.0/3.0)/gamma(2.0/3.0)  \n",
      "y0_0 = -1.0/3**(1.0/3.0)/gamma(1.0/3.0)  \n",
      "y0 = [y0_0, y1_0]  \n",
      "def func(y, t):  \n",
      "        return [t*y[1],y[0]]  \n",
      " \n",
      "def gradient(y,t):  \n",
      "        return [[0,t],[1,0]]  \n",
      " \n",
      "x = n.arange(0,4.0, 0.01)  \n",
      "t = x  \n",
      "ychk = airy(x)[0]  \n",
      "y = odeint(func, y0, t)  \n",
      "y2 = odeint(func, y0, t, Dfun=gradient)  \n",
      " \n",
      "import sys  \n",
      "sys.float_output_precision = 6  \n",
      "print ychk[:36:6]   \n",
      "print y[:36:6,1]   \n",
      "print y2[:36:6,1]  "
     ],
     "language": "python",
     "metadata": {},
     "outputs": [
      {
       "output_type": "stream",
       "stream": "stdout",
       "text": [
        "[ 0.35502805  0.33951139  0.32406751  0.30876307  0.29365818  0.27880648]\n",
        "[ 0.35502805  0.33951138  0.32406749  0.30876306  0.29365817  0.27880648]\n",
        "[ 0.35502805  0.33951138  0.32406749  0.30876306  0.29365817  0.27880648]\n"
       ]
      }
     ],
     "prompt_number": 23
    },
    {
     "cell_type": "code",
     "collapsed": false,
     "input": [
      "# Compute the integral of sin(t)\n",
      "def deriv(y, t):\n",
      "    return n.sin(t)"
     ],
     "language": "python",
     "metadata": {},
     "outputs": [],
     "prompt_number": 27
    },
    {
     "cell_type": "code",
     "collapsed": false,
     "input": [
      "y = odeint(deriv, 0, t)"
     ],
     "language": "python",
     "metadata": {},
     "outputs": [],
     "prompt_number": 28
    },
    {
     "cell_type": "code",
     "collapsed": false,
     "input": [
      "%matplotlib inline\n",
      "from pylab import *"
     ],
     "language": "python",
     "metadata": {},
     "outputs": [],
     "prompt_number": 33
    },
    {
     "cell_type": "code",
     "collapsed": false,
     "input": [
      "plot(t, -cos(t), 'r', t, y, 'g');"
     ],
     "language": "python",
     "metadata": {},
     "outputs": [
      {
       "metadata": {},
       "output_type": "display_data",
       "png": "[encoded data removed]",
       "text": [
        "<matplotlib.figure.Figure at 0x1095498d0>"
       ]
      }
     ],
     "prompt_number": 39
    },
    {
     "cell_type": "heading",
     "level": 1,
     "metadata": {},
     "source": [
      "Coupled Differential Equations"
     ]
    },
    {
     "cell_type": "code",
     "collapsed": false,
     "input": [
      "def coupled_deriv(y, t, p0, p1):\n",
      "    # Input: y - values at time t\n",
      "    #       args - 2-tuple\n",
      "    # Output: dy - vector of derivatives\n",
      "    dy = [p0[0]*y[0]+p0[1], p1[0]*y[1]+p1[1]]\n",
      "    return dy"
     ],
     "language": "python",
     "metadata": {},
     "outputs": [],
     "prompt_number": 50
    },
    {
     "cell_type": "code",
     "collapsed": false,
     "input": [],
     "language": "python",
     "metadata": {},
     "outputs": []
    },
    {
     "cell_type": "code",
     "collapsed": false,
     "input": [
      "y = odeint(coupled_deriv, (1,1), t, ((0.1, 0.2), (1,2)))"
     ],
     "language": "python",
     "metadata": {},
     "outputs": [],
     "prompt_number": 53
    },
    {
     "cell_type": "code",
     "collapsed": false,
     "input": [
      "plot(t, y)"
     ],
     "language": "python",
     "metadata": {},
     "outputs": [
      {
       "metadata": {},
       "output_type": "pyout",
       "prompt_number": 54,
       "text": [
        "[<matplotlib.lines.Line2D at 0x108f75fd0>,\n",
        " <matplotlib.lines.Line2D at 0x108e0cd90>]"
       ]
      },
      {
       "metadata": {},
       "output_type": "display_data",
       "png": "[encoded data removed]",
       "text": [
        "<matplotlib.figure.Figure at 0x109311510>"
       ]
      }
     ],
     "prompt_number": 54
    },
    {
     "cell_type": "code",
     "collapsed": false,
     "input": [],
     "language": "python",
     "metadata": {},
     "outputs": []
    }
   ],
   "metadata": {}
  }
 ]
}