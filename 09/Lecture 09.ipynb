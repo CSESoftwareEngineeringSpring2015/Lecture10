{
 "metadata": {
  "name": "",
  "signature": "sha256:ca80e2e7bb91146584d679443e94794e12824760509d69eb108292113758fe25"
 },
 "nbformat": 3,
 "nbformat_minor": 0,
 "worksheets": [
  {
   "cells": [
    {
     "cell_type": "heading",
     "level": 1,
     "metadata": {},
     "source": [
      "Defining the class Car"
     ]
    },
    {
     "cell_type": "heading",
     "level": 2,
     "metadata": {},
     "source": [
      "Instance Attributes"
     ]
    },
    {
     "cell_type": "code",
     "collapsed": false,
     "input": [
      "class Car:\n",
      "  def __init__(self, color, type, speed):\n",
      "    self.color = color\n",
      "    self.type = type\n",
      "    self.speed = speed"
     ],
     "language": "python",
     "metadata": {},
     "outputs": [],
     "prompt_number": 13
    },
    {
     "cell_type": "code",
     "collapsed": false,
     "input": [
      "joe_car = Car(\"blue\", \"sedan\", 100)"
     ],
     "language": "python",
     "metadata": {},
     "outputs": [],
     "prompt_number": 14
    },
    {
     "cell_type": "code",
     "collapsed": false,
     "input": [
      "joe_car.color"
     ],
     "language": "python",
     "metadata": {},
     "outputs": [
      {
       "metadata": {},
       "output_type": "pyout",
       "prompt_number": 15,
       "text": [
        "'blue'"
       ]
      }
     ],
     "prompt_number": 15
    },
    {
     "cell_type": "code",
     "collapsed": false,
     "input": [
      "dave_car = car(\"red\", \"sports\", 150)"
     ],
     "language": "python",
     "metadata": {},
     "outputs": [],
     "prompt_number": 16
    },
    {
     "cell_type": "code",
     "collapsed": false,
     "input": [
      "dave_car.color"
     ],
     "language": "python",
     "metadata": {},
     "outputs": [
      {
       "metadata": {},
       "output_type": "pyout",
       "prompt_number": 17,
       "text": [
        "'red'"
       ]
      }
     ],
     "prompt_number": 17
    },
    {
     "cell_type": "code",
     "collapsed": false,
     "input": [
      "dave_car.speed - joe_car.speed"
     ],
     "language": "python",
     "metadata": {},
     "outputs": [
      {
       "metadata": {},
       "output_type": "pyout",
       "prompt_number": 18,
       "text": [
        "50"
       ]
      }
     ],
     "prompt_number": 18
    },
    {
     "cell_type": "heading",
     "level": 2,
     "metadata": {},
     "source": [
      "Instance Methods"
     ]
    },
    {
     "cell_type": "code",
     "collapsed": false,
     "input": [
      "class Car:\n",
      "  def __init__(self, color, type, speed):\n",
      "    self.color = color\n",
      "    self.type = type\n",
      "    self.speed = speed\n",
      "  def Start(self):\n",
      "    print \"..Started %s car\" % self.color\n",
      "  def Stop(self):\n",
      "    print \"..Stopped %s car\" % self.color\n",
      "  def Turn(self, direction):\n",
      "    print \"..Turned %s in %s car\" % (direction, self.color)"
     ],
     "language": "python",
     "metadata": {},
     "outputs": [],
     "prompt_number": 19
    },
    {
     "cell_type": "code",
     "collapsed": false,
     "input": [
      "joe_car = Car(\"blue\", \"sedan\", 100)\n",
      "joe_car.Start()\n",
      "joe_car.Turn(\"left\")\n",
      "joe_car.Turn(\"right\")\n",
      "joe_car.Stop()"
     ],
     "language": "python",
     "metadata": {},
     "outputs": [
      {
       "output_type": "stream",
       "stream": "stdout",
       "text": [
        "..Started blue car\n",
        "..Turned left in blue car\n",
        "..Turned right in blue car\n",
        "..Stopped blue car\n"
       ]
      }
     ],
     "prompt_number": 20
    },
    {
     "cell_type": "heading",
     "level": 2,
     "metadata": {},
     "source": [
      "Questions"
     ]
    },
    {
     "cell_type": "markdown",
     "metadata": {},
     "source": [
      "Implement the `PlayCD` method for `JoeCar`"
     ]
    },
    {
     "cell_type": "code",
     "collapsed": false,
     "input": [
      "class Car(object):\n",
      "  def __init__(self, color, type, speed):\n",
      "    self.color = color\n",
      "    self.type = type\n",
      "    self.speed = speed\n",
      "  def Start(self):\n",
      "    print \"..Started %s car\" % self.color\n",
      "  def Stop(self):\n",
      "    print \"..Stopped %s car\" % self.color\n",
      "  def Turn(self, direction):\n",
      "    print \"..Turned %s in %s car\" % (direction, self.color)"
     ],
     "language": "python",
     "metadata": {},
     "outputs": [],
     "prompt_number": 40
    },
    {
     "cell_type": "heading",
     "level": 1,
     "metadata": {},
     "source": [
      "Inheritance"
     ]
    },
    {
     "cell_type": "code",
     "collapsed": false,
     "input": [
      "class JoeCar (Car):\n",
      "  def __init__(self):\n",
      "    super(JoeCar, self).__init__(\"blue\", \"sedan\", 100)\n",
      "  def PlayCD(self):\n",
      "    print \"..Playing CD in %s car\" % (\n",
      "        self.color)\n",
      "\n",
      "        "
     ],
     "language": "python",
     "metadata": {},
     "outputs": [],
     "prompt_number": 48
    },
    {
     "cell_type": "code",
     "collapsed": false,
     "input": [
      "joe_car = JoeCar()"
     ],
     "language": "python",
     "metadata": {},
     "outputs": [],
     "prompt_number": 49
    },
    {
     "cell_type": "code",
     "collapsed": false,
     "input": [
      "joe_car.color"
     ],
     "language": "python",
     "metadata": {},
     "outputs": [
      {
       "metadata": {},
       "output_type": "pyout",
       "prompt_number": 46,
       "text": [
        "'blue'"
       ]
      }
     ],
     "prompt_number": 46
    },
    {
     "cell_type": "code",
     "collapsed": false,
     "input": [
      "joe_car.Start()\n",
      "joe_car.Turn(\"left\")\n",
      "joe_car.Turn(\"right\")\n",
      "joe_car.Stop()\n",
      "joe_car.PlayCD()"
     ],
     "language": "python",
     "metadata": {},
     "outputs": [
      {
       "output_type": "stream",
       "stream": "stdout",
       "text": [
        "..Started blue car\n",
        "..Turned left in blue car\n",
        "..Turned right in blue car\n",
        "..Stopped blue car\n",
        "..Playing CD in blue car\n"
       ]
      }
     ],
     "prompt_number": 51
    },
    {
     "cell_type": "heading",
     "level": 2,
     "metadata": {},
     "source": [
      "Questions"
     ]
    },
    {
     "cell_type": "markdown",
     "metadata": {},
     "source": [
      "Add `PlayBluetooth` to `DaveCar`"
     ]
    },
    {
     "cell_type": "code",
     "collapsed": false,
     "input": [
      "a = enumerate([\"1\", \"a\", \"c\"])\n",
      "for i, v in a:\n",
      "    print \"i=%d, v=%s\" % (i, v)"
     ],
     "language": "python",
     "metadata": {},
     "outputs": [
      {
       "output_type": "stream",
       "stream": "stdout",
       "text": [
        "i=0, v=1\n",
        "i=1, v=a\n",
        "i=2, v=c\n"
       ]
      }
     ],
     "prompt_number": 59
    },
    {
     "cell_type": "heading",
     "level": 1,
     "metadata": {},
     "source": [
      "Reading Files"
     ]
    },
    {
     "cell_type": "code",
     "collapsed": false,
     "input": [
      "fd = open(\"09_THDPA.csv\", \"r\")"
     ],
     "language": "python",
     "metadata": {},
     "outputs": [],
     "prompt_number": 52
    },
    {
     "cell_type": "code",
     "collapsed": false,
     "input": [
      "print fd.readline()"
     ],
     "language": "python",
     "metadata": {},
     "outputs": [
      {
       "output_type": "stream",
       "stream": "stdout",
       "text": [
        "'S','r'\n",
        "\n"
       ]
      }
     ],
     "prompt_number": 53
    },
    {
     "cell_type": "code",
     "collapsed": false,
     "input": [
      "for i in range(1,6):\n",
      "  print fd.readline()"
     ],
     "language": "python",
     "metadata": {},
     "outputs": [
      {
       "output_type": "stream",
       "stream": "stdout",
       "text": [
        "0.01, 0.11\n",
        "\n",
        "0.05, .19\n",
        "\n",
        "0.12, 0.21\n",
        "\n",
        "0.2, 0.22\n",
        "\n",
        "0.5, 0.21\n",
        "\n"
       ]
      }
     ],
     "prompt_number": 54
    },
    {
     "cell_type": "code",
     "collapsed": false,
     "input": [
      "fd.close()"
     ],
     "language": "python",
     "metadata": {},
     "outputs": [],
     "prompt_number": 55
    },
    {
     "cell_type": "code",
     "collapsed": false,
     "input": [
      "for line in open(\"09_THDPA.csv\", \"r\"): \n",
      "  print line"
     ],
     "language": "python",
     "metadata": {},
     "outputs": [
      {
       "output_type": "stream",
       "stream": "stdout",
       "text": [
        "'S','r'\n",
        "\n",
        "0.01, 0.11\n",
        "\n",
        "0.05, .19\n",
        "\n",
        "0.12, 0.21\n",
        "\n",
        "0.2, 0.22\n",
        "\n",
        "0.5, 0.21\n",
        "\n",
        "1.0, 0.21\n",
        "\n"
       ]
      }
     ],
     "prompt_number": 56
    },
    {
     "cell_type": "code",
     "collapsed": false,
     "input": [
      "data = [ [], [] ]  # Lists for columns\n",
      "for line in open(\"09_THDPA.csv\", 'r'):\n",
      "  fields = line.strip().split(\",\")\n",
      "  data[0].append(fields[0])\n",
      "  data[1].append(fields[1])"
     ],
     "language": "python",
     "metadata": {},
     "outputs": [],
     "prompt_number": 61
    },
    {
     "cell_type": "code",
     "collapsed": false,
     "input": [
      "data"
     ],
     "language": "python",
     "metadata": {},
     "outputs": [
      {
       "metadata": {},
       "output_type": "pyout",
       "prompt_number": 62,
       "text": [
        "[[\"'S'\", '0.01', '0.05', '0.12', '0.2', '0.5', '1.0'],\n",
        " [\"'r'\", ' 0.11', ' .19', ' 0.21', ' 0.22', ' 0.21', ' 0.21']]"
       ]
      }
     ],
     "prompt_number": 62
    },
    {
     "cell_type": "code",
     "collapsed": false,
     "input": [
      "float('3.4')"
     ],
     "language": "python",
     "metadata": {},
     "outputs": [
      {
       "metadata": {},
       "output_type": "pyout",
       "prompt_number": 66,
       "text": [
        "3.4"
       ]
      }
     ],
     "prompt_number": 66
    },
    {
     "cell_type": "code",
     "collapsed": false,
     "input": [
      "headers = []  # Headers for columns\n",
      "data = [ [], [] ]  # Lists for columns\n",
      "got_header = False\n",
      "for line in open(\"09_THDPA.csv\", 'r'):\n",
      "  fields = line.strip().split(\",\")\n",
      "  if not got_header:\n",
      "    headers.append(fields[0])\n",
      "    headers.append(fields[1])\n",
      "    got_header = True\n",
      "  else:\n",
      "    data[0].append(float(fields[0]))\n",
      "    data[1].append(float(fields[1]))"
     ],
     "language": "python",
     "metadata": {},
     "outputs": [],
     "prompt_number": 75
    },
    {
     "cell_type": "code",
     "collapsed": false,
     "input": [
      "type(headers[0])"
     ],
     "language": "python",
     "metadata": {},
     "outputs": [
      {
       "metadata": {},
       "output_type": "pyout",
       "prompt_number": 77,
       "text": [
        "str"
       ]
      }
     ],
     "prompt_number": 77
    },
    {
     "cell_type": "code",
     "collapsed": false,
     "input": [
      "data[0][1] + data[1][1]"
     ],
     "language": "python",
     "metadata": {},
     "outputs": [
      {
       "metadata": {},
       "output_type": "pyout",
       "prompt_number": 79,
       "text": [
        "0.24"
       ]
      }
     ],
     "prompt_number": 79
    }
   ],
   "metadata": {}
  }
 ]
}