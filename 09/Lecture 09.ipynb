{
 "metadata": {
  "name": "",
  "signature": "sha256:377ca63214538b4dfa21a8805965acbab6f8ece4a9b2f6ad0835dcb2e1d23459"
 },
 "nbformat": 3,
 "nbformat_minor": 0,
 "worksheets": [
  {
   "cells": [
    {
     "cell_type": "heading",
     "level": 1,
     "metadata": {},
     "source": [
      "Defining the class Car"
     ]
    },
    {
     "cell_type": "heading",
     "level": 2,
     "metadata": {},
     "source": [
      "Instance Attributes"
     ]
    },
    {
     "cell_type": "code",
     "collapsed": false,
     "input": [
      "class car:\n",
      "  def __init__(self, color, type, speed):\n",
      "    self.color = color\n",
      "    self.type = type\n",
      "    self.speed = speed"
     ],
     "language": "python",
     "metadata": {},
     "outputs": []
    },
    {
     "cell_type": "code",
     "collapsed": false,
     "input": [
      "joe_car = Car(\"blue\", \"sedan\", 100)"
     ],
     "language": "python",
     "metadata": {},
     "outputs": []
    },
    {
     "cell_type": "code",
     "collapsed": false,
     "input": [
      "joe_car.color"
     ],
     "language": "python",
     "metadata": {},
     "outputs": []
    },
    {
     "cell_type": "code",
     "collapsed": false,
     "input": [
      "dave_car = car(\"red\", \"sports\", 150)"
     ],
     "language": "python",
     "metadata": {},
     "outputs": []
    },
    {
     "cell_type": "code",
     "collapsed": false,
     "input": [
      "dave_car.color"
     ],
     "language": "python",
     "metadata": {},
     "outputs": []
    },
    {
     "cell_type": "code",
     "collapsed": false,
     "input": [
      "dave_car.speed - joe_car.speed"
     ],
     "language": "python",
     "metadata": {},
     "outputs": []
    },
    {
     "cell_type": "heading",
     "level": 2,
     "metadata": {},
     "source": [
      "Instance Methods"
     ]
    },
    {
     "cell_type": "code",
     "collapsed": false,
     "input": [
      "class Car:\n",
      "  def __init__(self, color, type, speed):\n",
      "    self.color = color\n",
      "    self.type = type\n",
      "    self.speed = speed\n",
      "  def Start(self):\n",
      "    print \"..Started %s car\" % self.color\n",
      "  def Stop(self):\n",
      "    print \"..Stopped %s car\" % self.color\n",
      "  def Turn(self, direction):\n",
      "    print \"..Turned %s in %s car\" % (direction, self.color)"
     ],
     "language": "python",
     "metadata": {},
     "outputs": []
    },
    {
     "cell_type": "code",
     "collapsed": false,
     "input": [
      "joe_car = Car(\"blue\", \"sedan\", 100)\n",
      "joe_car.Start()\n",
      "joe_car.Turn(\"left\")\n",
      "joe_car.Turn(\"right\")\n",
      "joe_car.Stop()"
     ],
     "language": "python",
     "metadata": {},
     "outputs": []
    },
    {
     "cell_type": "heading",
     "level": 2,
     "metadata": {},
     "source": [
      "Questions"
     ]
    },
    {
     "cell_type": "markdown",
     "metadata": {},
     "source": [
      "Implement the `PlayCD` method for `JoeCar`"
     ]
    },
    {
     "cell_type": "code",
     "collapsed": false,
     "input": [
      "class Car(object):\n",
      "  def __init__(self, color, type, speed):\n",
      "    self.color = color\n",
      "    self.type = type\n",
      "    self.speed = speed\n",
      "  def Start(self):\n",
      "    print \"..Started %s car\" % self.color\n",
      "  def Stop(self):\n",
      "    print \"..Stopped %s car\" % self.color\n",
      "  def Turn(self, direction):\n",
      "    print \"..Turned %s in %s car\" % (direction, self.color)"
     ],
     "language": "python",
     "metadata": {},
     "outputs": []
    },
    {
     "cell_type": "heading",
     "level": 1,
     "metadata": {},
     "source": [
      "Inheritance"
     ]
    },
    {
     "cell_type": "code",
     "collapsed": false,
     "input": [
      "class JoeCar (Car):\n",
      "  def __init__(self):\n",
      "    super(JoeCar, self).__init__(\"blue\", \"sedan\", 100)\n",
      "  def PlayCD(self):\n",
      "    print \"..Playing CD in %s car\" % (\n",
      "        self.color)\n",
      "\n",
      "        "
     ],
     "language": "python",
     "metadata": {},
     "outputs": []
    },
    {
     "cell_type": "code",
     "collapsed": false,
     "input": [
      "joe_car = JoeCar()"
     ],
     "language": "python",
     "metadata": {},
     "outputs": []
    },
    {
     "cell_type": "code",
     "collapsed": false,
     "input": [
      "joe_car.color"
     ],
     "language": "python",
     "metadata": {},
     "outputs": []
    },
    {
     "cell_type": "code",
     "collapsed": false,
     "input": [
      "joe_car.Start()\n",
      "joe_car.Turn(\"left\")\n",
      "joe_car.Turn(\"right\")\n",
      "joe_car.Stop()\n",
      "joe_car.PlayCD()"
     ],
     "language": "python",
     "metadata": {},
     "outputs": []
    },
    {
     "cell_type": "heading",
     "level": 2,
     "metadata": {},
     "source": [
      "Questions"
     ]
    },
    {
     "cell_type": "markdown",
     "metadata": {},
     "source": [
      "Add `PlayBluetooth` to `DaveCar`"
     ]
    },
    {
     "cell_type": "code",
     "collapsed": false,
     "input": [
      "a = enumerate([\"1\", \"a\", \"c\"])\n",
      "for i, v in a:\n",
      "    print \"i=%d, v=%s\" % (i, v)"
     ],
     "language": "python",
     "metadata": {},
     "outputs": []
    },
    {
     "cell_type": "heading",
     "level": 1,
     "metadata": {},
     "source": [
      "Reading Files"
     ]
    },
    {
     "cell_type": "code",
     "collapsed": false,
     "input": [
      "fd = open(\"09_THDPA.csv\", \"r\")"
     ],
     "language": "python",
     "metadata": {},
     "outputs": []
    },
    {
     "cell_type": "code",
     "collapsed": false,
     "input": [
      "print fd.readline()"
     ],
     "language": "python",
     "metadata": {},
     "outputs": []
    },
    {
     "cell_type": "code",
     "collapsed": false,
     "input": [
      "for i in range(1,6):\n",
      "  print fd.readline()"
     ],
     "language": "python",
     "metadata": {},
     "outputs": []
    },
    {
     "cell_type": "code",
     "collapsed": false,
     "input": [
      "fd.close()"
     ],
     "language": "python",
     "metadata": {},
     "outputs": []
    },
    {
     "cell_type": "code",
     "collapsed": false,
     "input": [
      "for line in open(\"09_THDPA.csv\", \"r\"): \n",
      "  print line"
     ],
     "language": "python",
     "metadata": {},
     "outputs": []
    },
    {
     "cell_type": "code",
     "collapsed": false,
     "input": [
      "data = [ [], [] ]  # Lists for columns\n",
      "for line in open(\"09_THDPA.csv\", 'r'):\n",
      "  fields = line.strip().split(\",\")\n",
      "  data[0].append(fields[0])\n",
      "  data[1].append(fields[1])"
     ],
     "language": "python",
     "metadata": {},
     "outputs": []
    },
    {
     "cell_type": "code",
     "collapsed": false,
     "input": [
      "data"
     ],
     "language": "python",
     "metadata": {},
     "outputs": []
    },
    {
     "cell_type": "code",
     "collapsed": false,
     "input": [
      "float('3.4')"
     ],
     "language": "python",
     "metadata": {},
     "outputs": []
    },
    {
     "cell_type": "code",
     "collapsed": false,
     "input": [
      "headers = []  # Headers for columns\n",
      "data = [ [], [] ]  # Lists for columns\n",
      "got_header = False\n",
      "for line in open(\"09_THDPA.csv\", 'r'):\n",
      "  fields = line.strip().split(\",\")\n",
      "  if not got_header:\n",
      "    headers.append(fields[0])\n",
      "    headers.append(fields[1])\n",
      "    got_header = True\n",
      "  else:\n",
      "    data[0].append(float(fields[0]))\n",
      "    data[1].append(float(fields[1]))"
     ],
     "language": "python",
     "metadata": {},
     "outputs": []
    },
    {
     "cell_type": "code",
     "collapsed": false,
     "input": [
      "type(headers[0])"
     ],
     "language": "python",
     "metadata": {},
     "outputs": []
    },
    {
     "cell_type": "code",
     "collapsed": false,
     "input": [
      "data[0][1] + data[1][1]"
     ],
     "language": "python",
     "metadata": {},
     "outputs": []
    }
   ],
   "metadata": {}
  }
 ]
}