{
 "metadata": {
  "name": "",
  "signature": "sha256:c0fc49b2b247392debd778cfa39a5cde40c75fda73200a472809f431531132a8"
 },
 "nbformat": 3,
 "nbformat_minor": 0,
 "worksheets": [
  {
   "cells": [
    {
     "cell_type": "heading",
     "level": 1,
     "metadata": {},
     "source": [
      "Converting Mechaelis-Mention Analysis to Python"
     ]
    },
    {
     "cell_type": "heading",
     "level": 2,
     "metadata": {},
     "source": [
      "Plotting Raw Data"
     ]
    },
    {
     "cell_type": "heading",
     "level": 3,
     "metadata": {},
     "source": [
      "MATLAB Code"
     ]
    },
    {
     "cell_type": "markdown",
     "metadata": {},
     "source": [
      "`function plotMichaelisData(data)\n",
      "    plot(data(:, 1), data(:, 2), 'o')\n",
      "    xlabel('[THDPA] (M)'), ylabel('v (M/s)')\n",
      "    title('Michaelis-Menten Raw Data and Best Fit'), axis([0 1 0 0.3])\n",
      "end`"
     ]
    },
    {
     "cell_type": "code",
     "collapsed": false,
     "input": [
      "%matplotlib inline"
     ],
     "language": "python",
     "metadata": {},
     "outputs": [],
     "prompt_number": 15
    },
    {
     "cell_type": "heading",
     "level": 3,
     "metadata": {},
     "source": [
      "Python Code"
     ]
    },
    {
     "cell_type": "code",
     "collapsed": false,
     "input": [
      "from numpy import *"
     ],
     "language": "python",
     "metadata": {},
     "outputs": [],
     "prompt_number": 1
    },
    {
     "cell_type": "code",
     "collapsed": false,
     "input": [
      "b = array( [ (1.5,2,3), (4,5,6) ] )\n",
      "print b"
     ],
     "language": "python",
     "metadata": {},
     "outputs": [
      {
       "output_type": "stream",
       "stream": "stdout",
       "text": [
        "[[ 1.5  2.   3. ]\n",
        " [ 4.   5.   6. ]]\n"
       ]
      }
     ],
     "prompt_number": 3
    },
    {
     "cell_type": "markdown",
     "metadata": {},
     "source": [
      "MATLAB DATA\n",
      "'data = [0.01 0.11; 0.05 0.19; 0.12 0.21; 0.2 0.22; 0.5 0.21; 1 0.24];"
     ]
    },
    {
     "cell_type": "code",
     "collapsed": false,
     "input": [
      "import numpy as np"
     ],
     "language": "python",
     "metadata": {},
     "outputs": [],
     "prompt_number": 5
    },
    {
     "cell_type": "code",
     "collapsed": false,
     "input": [
      "b = np.array( [ (1.5,2,3), (4,5,6) ] )\n",
      "print b"
     ],
     "language": "python",
     "metadata": {},
     "outputs": [
      {
       "output_type": "stream",
       "stream": "stdout",
       "text": [
        "[[ 1.5  2.   3. ]\n",
        " [ 4.   5.   6. ]]\n"
       ]
      }
     ],
     "prompt_number": 6
    },
    {
     "cell_type": "code",
     "collapsed": false,
     "input": [
      "row_one_list = [0.01, 0.11]\n",
      "list_data = [[0.01, 0.11], [0.05, 0.19], [0.12, 0.21], [0.2, 0.22], [0.5, 0.21], [1, 0.24]]\n",
      "data = np.matrix(list_data)\n",
      "print data"
     ],
     "language": "python",
     "metadata": {},
     "outputs": [
      {
       "output_type": "stream",
       "stream": "stdout",
       "text": [
        "[[ 0.01  0.11]\n",
        " [ 0.05  0.19]\n",
        " [ 0.12  0.21]\n",
        " [ 0.2   0.22]\n",
        " [ 0.5   0.21]\n",
        " [ 1.    0.24]]\n"
       ]
      }
     ],
     "prompt_number": 9
    },
    {
     "cell_type": "code",
     "collapsed": false,
     "input": [
      "data.reshape(2,6)"
     ],
     "language": "python",
     "metadata": {},
     "outputs": [
      {
       "metadata": {},
       "output_type": "pyout",
       "prompt_number": 10,
       "text": [
        "matrix([[ 0.01,  0.11,  0.05,  0.19,  0.12,  0.21],\n",
        "        [ 0.2 ,  0.22,  0.5 ,  0.21,  1.  ,  0.24]])"
       ]
      }
     ],
     "prompt_number": 10
    },
    {
     "cell_type": "code",
     "collapsed": false,
     "input": [
      "substrate = \"THDPA\"\n",
      "print substrate"
     ],
     "language": "python",
     "metadata": {},
     "outputs": [
      {
       "output_type": "stream",
       "stream": "stdout",
       "text": [
        "THDPA\n"
       ]
      }
     ],
     "prompt_number": 12
    },
    {
     "cell_type": "code",
     "collapsed": false,
     "input": [
      "import matplotlib.pyplot as p\n",
      "def plot_data(data, xlab):\n",
      "    p.plot(data[:,0], data[:,1], 'o')\n",
      "    p.xlabel(xlab, fontsize=20)\n",
      "    p.ylabel('V', fontsize=20)\n",
      "    p.axis([0, 1, 0, 0.3])\n",
      "    "
     ],
     "language": "python",
     "metadata": {},
     "outputs": [],
     "prompt_number": 18
    },
    {
     "cell_type": "code",
     "collapsed": false,
     "input": [
      "plot_data(data, 'THDPA')"
     ],
     "language": "python",
     "metadata": {},
     "outputs": [
      {
       "metadata": {},
       "output_type": "display_data",
       "png": "[encoded data removed]",
       "text": [
        "<matplotlib.figure.Figure at 0x10983b150>"
       ]
      }
     ],
     "prompt_number": 19
    },
    {
     "cell_type": "heading",
     "level": 2,
     "metadata": {},
     "source": [
      "Estimating M.M. Parameters"
     ]
    },
    {
     "cell_type": "heading",
     "level": 3,
     "metadata": {},
     "source": [
      "MATLAB Code"
     ]
    },
    {
     "cell_type": "markdown",
     "metadata": {},
     "source": [
      "`function [Vmax, Km] = parameterMichaelis(data)\n",
      "    invData = 1./data;\n",
      "    % Create a matrix of 1's using the number of rows\n",
      "    oneMat = repmat(1, size(data, 1), 1);\n",
      "    xAug = [oneMat invData(:, 1)];\n",
      "    est = pinv(xAug.'*xAug)*xAug.'*invData(:, 2);\n",
      "    Vmax = 1/est(1);\n",
      "    Km = Vmax*est(2);\n",
      "end`"
     ]
    },
    {
     "cell_type": "heading",
     "level": 3,
     "metadata": {},
     "source": [
      "Python Code"
     ]
    },
    {
     "cell_type": "code",
     "collapsed": false,
     "input": [
      "est = np.linalg.pinv(xAug.transpose()*xAug)*xAug.T*invData[:,1]"
     ],
     "language": "python",
     "metadata": {},
     "outputs": [],
     "prompt_number": 53
    },
    {
     "cell_type": "code",
     "collapsed": false,
     "input": [
      "invData[:,1]"
     ],
     "language": "python",
     "metadata": {},
     "outputs": [
      {
       "metadata": {},
       "output_type": "pyout",
       "prompt_number": 50,
       "text": [
        "matrix([[ 9.09090909],\n",
        "        [ 5.26315789],\n",
        "        [ 4.76190476],\n",
        "        [ 4.54545455],\n",
        "        [ 4.76190476],\n",
        "        [ 4.16666667]])"
       ]
      }
     ],
     "prompt_number": 50
    },
    {
     "cell_type": "code",
     "collapsed": false,
     "input": [
      "def func(data):\n",
      "    # Input: data - N by 2 matrix; col 1 is substrate; col2 is V\n",
      "    invData = 1/data\n",
      "    nrows = data.shape[0]\n",
      "    onemat = np.ones((nrows, 1))\n",
      "    firstc = invData[:,0]\n",
      "    xAug = hstack((onemat[0:6],firstc[0:6]))\n",
      "    est = np.linalg.pinv(xAug.transpose()*xAug)*xAug.transpose()*invData[:,1]\n",
      "    Vmax = 1/est[0,0]\n",
      "    Km = Vmax*est[1,0]\n",
      "    return [Vmax, Km]\n",
      "                     "
     ],
     "language": "python",
     "metadata": {},
     "outputs": [],
     "prompt_number": 69
    },
    {
     "cell_type": "code",
     "collapsed": false,
     "input": [
      "print est[0,0]"
     ],
     "language": "python",
     "metadata": {},
     "outputs": [
      {
       "output_type": "stream",
       "stream": "stdout",
       "text": [
        "4.3573987285\n"
       ]
      }
     ],
     "prompt_number": 66
    },
    {
     "cell_type": "code",
     "collapsed": false,
     "input": [
      "result = func(data)\n",
      "print(result)"
     ],
     "language": "python",
     "metadata": {},
     "outputs": [
      {
       "output_type": "stream",
       "stream": "stdout",
       "text": [
        "[0.22949471974158286, 0.010850115355686987]\n"
       ]
      }
     ],
     "prompt_number": 70
    },
    {
     "cell_type": "code",
     "collapsed": false,
     "input": [
      "a = np.array([[1, 2], [3, 4]])\n",
      "print a\n",
      "print a.transpose()"
     ],
     "language": "python",
     "metadata": {},
     "outputs": [
      {
       "output_type": "stream",
       "stream": "stdout",
       "text": [
        "[[1 2]\n",
        " [3 4]]\n",
        "[[1 3]\n",
        " [2 4]]\n"
       ]
      }
     ],
     "prompt_number": 36
    },
    {
     "cell_type": "code",
     "collapsed": false,
     "input": [
      "print np.linalg.pinv(xAug.transpose()*xAug)"
     ],
     "language": "python",
     "metadata": {},
     "outputs": [
      {
       "output_type": "stream",
       "stream": "stdout",
       "text": [
        "[[  2.36421318e-01  -3.06988684e-03]\n",
        " [ -3.06988684e-03   1.35105044e-04]]\n"
       ]
      }
     ],
     "prompt_number": 46
    },
    {
     "cell_type": "heading",
     "level": 2,
     "metadata": {},
     "source": [
      "Plotting Fitted Data"
     ]
    },
    {
     "cell_type": "heading",
     "level": 3,
     "metadata": {},
     "source": [
      "MATLAB Code"
     ]
    },
    {
     "cell_type": "markdown",
     "metadata": {},
     "source": [
      "`function plotMichaelisCurve(Vmax, Km, data)\n",
      "    S = data(:, 1);\n",
      "    v = Vmax*S./(Km + S);\n",
      "    plot(S, v, 'r')\n",
      "end`"
     ]
    },
    {
     "cell_type": "heading",
     "level": 3,
     "metadata": {},
     "source": [
      "Python Code"
     ]
    },
    {
     "cell_type": "code",
     "collapsed": false,
     "input": [],
     "language": "python",
     "metadata": {},
     "outputs": [],
     "prompt_number": 2
    },
    {
     "cell_type": "heading",
     "level": 2,
     "metadata": {},
     "source": [
      "Main Script"
     ]
    },
    {
     "cell_type": "heading",
     "level": 3,
     "metadata": {},
     "source": [
      "MATLAB Code"
     ]
    },
    {
     "cell_type": "markdown",
     "metadata": {},
     "source": [
      "`clear all, close all, clc\n",
      "data = [0.01 0.11; 0.05 0.19; 0.12 0.21; 0.2 0.22; 0.5 0.21; 1 0.24];\n",
      "[Vmax, Km] = parameterMichaelis(data);\n",
      "plotMichaelisData(data), hold on\n",
      "plotMichaelisCurve(Vmax, Km, data), hold off\n",
      "% Polyfit eliminates all the math that is used to find the best fit line.\n",
      "% We can directly get the best fit line using P = \n",
      "% polyfit(invData(:, 1), invData(:, 2), 1) of that data, where 1 indicates \n",
      "% a best-fit linear equation of that order. In parameterMichaelis. I would\n",
      "% use polyfit on the reciprocal data and immediately get the slope and\n",
      "% y-intercept (Vmax = P(1), Km = P(2)).`"
     ]
    },
    {
     "cell_type": "heading",
     "level": 3,
     "metadata": {},
     "source": [
      "Python Code"
     ]
    },
    {
     "cell_type": "code",
     "collapsed": false,
     "input": [
      "not True"
     ],
     "language": "python",
     "metadata": {},
     "outputs": [
      {
       "metadata": {},
       "output_type": "pyout",
       "prompt_number": 71,
       "text": [
        "False"
       ]
      }
     ],
     "prompt_number": 71
    },
    {
     "cell_type": "code",
     "collapsed": false,
     "input": [
      "import numpy as np\n",
      "dir(np)"
     ],
     "language": "python",
     "metadata": {},
     "outputs": [
      {
       "metadata": {},
       "output_type": "pyout",
       "prompt_number": 72,
       "text": [
        "['ALLOW_THREADS',\n",
        " 'BUFSIZE',\n",
        " 'CLIP',\n",
        " 'ComplexWarning',\n",
        " 'DataSource',\n",
        " 'ERR_CALL',\n",
        " 'ERR_DEFAULT',\n",
        " 'ERR_IGNORE',\n",
        " 'ERR_LOG',\n",
        " 'ERR_PRINT',\n",
        " 'ERR_RAISE',\n",
        " 'ERR_WARN',\n",
        " 'FLOATING_POINT_SUPPORT',\n",
        " 'FPE_DIVIDEBYZERO',\n",
        " 'FPE_INVALID',\n",
        " 'FPE_OVERFLOW',\n",
        " 'FPE_UNDERFLOW',\n",
        " 'False_',\n",
        " 'Inf',\n",
        " 'Infinity',\n",
        " 'MAXDIMS',\n",
        " 'MachAr',\n",
        " 'ModuleDeprecationWarning',\n",
        " 'NAN',\n",
        " 'NINF',\n",
        " 'NZERO',\n",
        " 'NaN',\n",
        " 'PINF',\n",
        " 'PZERO',\n",
        " 'PackageLoader',\n",
        " 'RAISE',\n",
        " 'RankWarning',\n",
        " 'SHIFT_DIVIDEBYZERO',\n",
        " 'SHIFT_INVALID',\n",
        " 'SHIFT_OVERFLOW',\n",
        " 'SHIFT_UNDERFLOW',\n",
        " 'ScalarType',\n",
        " 'Tester',\n",
        " 'True_',\n",
        " 'UFUNC_BUFSIZE_DEFAULT',\n",
        " 'UFUNC_PYVALS_NAME',\n",
        " 'VisibleDeprecationWarning',\n",
        " 'WRAP',\n",
        " '__NUMPY_SETUP__',\n",
        " '__all__',\n",
        " '__builtins__',\n",
        " '__config__',\n",
        " '__doc__',\n",
        " '__file__',\n",
        " '__git_revision__',\n",
        " '__name__',\n",
        " '__package__',\n",
        " '__path__',\n",
        " '__version__',\n",
        " '_import_tools',\n",
        " '_mat',\n",
        " 'abs',\n",
        " 'absolute',\n",
        " 'absolute_import',\n",
        " 'add',\n",
        " 'add_docstring',\n",
        " 'add_newdoc',\n",
        " 'add_newdoc_ufunc',\n",
        " 'add_newdocs',\n",
        " 'alen',\n",
        " 'all',\n",
        " 'allclose',\n",
        " 'alltrue',\n",
        " 'alterdot',\n",
        " 'amax',\n",
        " 'amin',\n",
        " 'angle',\n",
        " 'any',\n",
        " 'append',\n",
        " 'apply_along_axis',\n",
        " 'apply_over_axes',\n",
        " 'arange',\n",
        " 'arccos',\n",
        " 'arccosh',\n",
        " 'arcsin',\n",
        " 'arcsinh',\n",
        " 'arctan',\n",
        " 'arctan2',\n",
        " 'arctanh',\n",
        " 'argmax',\n",
        " 'argmin',\n",
        " 'argpartition',\n",
        " 'argsort',\n",
        " 'argwhere',\n",
        " 'around',\n",
        " 'array',\n",
        " 'array2string',\n",
        " 'array_equal',\n",
        " 'array_equiv',\n",
        " 'array_repr',\n",
        " 'array_split',\n",
        " 'array_str',\n",
        " 'asanyarray',\n",
        " 'asarray',\n",
        " 'asarray_chkfinite',\n",
        " 'ascontiguousarray',\n",
        " 'asfarray',\n",
        " 'asfortranarray',\n",
        " 'asmatrix',\n",
        " 'asscalar',\n",
        " 'atleast_1d',\n",
        " 'atleast_2d',\n",
        " 'atleast_3d',\n",
        " 'average',\n",
        " 'bartlett',\n",
        " 'base_repr',\n",
        " 'bench',\n",
        " 'binary_repr',\n",
        " 'bincount',\n",
        " 'bitwise_and',\n",
        " 'bitwise_not',\n",
        " 'bitwise_or',\n",
        " 'bitwise_xor',\n",
        " 'blackman',\n",
        " 'bmat',\n",
        " 'bool',\n",
        " 'bool8',\n",
        " 'bool_',\n",
        " 'broadcast',\n",
        " 'broadcast_arrays',\n",
        " 'busday_count',\n",
        " 'busday_offset',\n",
        " 'busdaycalendar',\n",
        " 'byte',\n",
        " 'byte_bounds',\n",
        " 'bytes_',\n",
        " 'c_',\n",
        " 'can_cast',\n",
        " 'cast',\n",
        " 'cdouble',\n",
        " 'ceil',\n",
        " 'cfloat',\n",
        " 'char',\n",
        " 'character',\n",
        " 'chararray',\n",
        " 'choose',\n",
        " 'clip',\n",
        " 'clongdouble',\n",
        " 'clongfloat',\n",
        " 'column_stack',\n",
        " 'common_type',\n",
        " 'compare_chararrays',\n",
        " 'compat',\n",
        " 'complex',\n",
        " 'complex128',\n",
        " 'complex256',\n",
        " 'complex64',\n",
        " 'complex_',\n",
        " 'complexfloating',\n",
        " 'compress',\n",
        " 'concatenate',\n",
        " 'conj',\n",
        " 'conjugate',\n",
        " 'convolve',\n",
        " 'copy',\n",
        " 'copysign',\n",
        " 'copyto',\n",
        " 'core',\n",
        " 'corrcoef',\n",
        " 'correlate',\n",
        " 'cos',\n",
        " 'cosh',\n",
        " 'count_nonzero',\n",
        " 'cov',\n",
        " 'cross',\n",
        " 'csingle',\n",
        " 'ctypeslib',\n",
        " 'cumprod',\n",
        " 'cumproduct',\n",
        " 'cumsum',\n",
        " 'datetime64',\n",
        " 'datetime_as_string',\n",
        " 'datetime_data',\n",
        " 'deg2rad',\n",
        " 'degrees',\n",
        " 'delete',\n",
        " 'deprecate',\n",
        " 'deprecate_with_doc',\n",
        " 'diag',\n",
        " 'diag_indices',\n",
        " 'diag_indices_from',\n",
        " 'diagflat',\n",
        " 'diagonal',\n",
        " 'diff',\n",
        " 'digitize',\n",
        " 'disp',\n",
        " 'divide',\n",
        " 'division',\n",
        " 'dot',\n",
        " 'double',\n",
        " 'dsplit',\n",
        " 'dstack',\n",
        " 'dtype',\n",
        " 'e',\n",
        " 'ediff1d',\n",
        " 'einsum',\n",
        " 'emath',\n",
        " 'empty',\n",
        " 'empty_like',\n",
        " 'equal',\n",
        " 'errstate',\n",
        " 'euler_gamma',\n",
        " 'exp',\n",
        " 'exp2',\n",
        " 'expand_dims',\n",
        " 'expm1',\n",
        " 'extract',\n",
        " 'eye',\n",
        " 'fabs',\n",
        " 'fastCopyAndTranspose',\n",
        " 'fft',\n",
        " 'fill_diagonal',\n",
        " 'find_common_type',\n",
        " 'finfo',\n",
        " 'fix',\n",
        " 'flatiter',\n",
        " 'flatnonzero',\n",
        " 'flexible',\n",
        " 'fliplr',\n",
        " 'flipud',\n",
        " 'float',\n",
        " 'float128',\n",
        " 'float16',\n",
        " 'float32',\n",
        " 'float64',\n",
        " 'float_',\n",
        " 'floating',\n",
        " 'floor',\n",
        " 'floor_divide',\n",
        " 'fmax',\n",
        " 'fmin',\n",
        " 'fmod',\n",
        " 'format_parser',\n",
        " 'frexp',\n",
        " 'frombuffer',\n",
        " 'fromfile',\n",
        " 'fromfunction',\n",
        " 'fromiter',\n",
        " 'frompyfunc',\n",
        " 'fromregex',\n",
        " 'fromstring',\n",
        " 'full',\n",
        " 'full_like',\n",
        " 'fv',\n",
        " 'generic',\n",
        " 'genfromtxt',\n",
        " 'get_array_wrap',\n",
        " 'get_include',\n",
        " 'get_printoptions',\n",
        " 'getbuffer',\n",
        " 'getbufsize',\n",
        " 'geterr',\n",
        " 'geterrcall',\n",
        " 'geterrobj',\n",
        " 'gradient',\n",
        " 'greater',\n",
        " 'greater_equal',\n",
        " 'half',\n",
        " 'hamming',\n",
        " 'hanning',\n",
        " 'histogram',\n",
        " 'histogram2d',\n",
        " 'histogramdd',\n",
        " 'hsplit',\n",
        " 'hstack',\n",
        " 'hypot',\n",
        " 'i0',\n",
        " 'identity',\n",
        " 'iinfo',\n",
        " 'imag',\n",
        " 'in1d',\n",
        " 'index_exp',\n",
        " 'indices',\n",
        " 'inexact',\n",
        " 'inf',\n",
        " 'info',\n",
        " 'infty',\n",
        " 'inner',\n",
        " 'insert',\n",
        " 'int',\n",
        " 'int0',\n",
        " 'int16',\n",
        " 'int32',\n",
        " 'int64',\n",
        " 'int8',\n",
        " 'int_',\n",
        " 'int_asbuffer',\n",
        " 'intc',\n",
        " 'integer',\n",
        " 'interp',\n",
        " 'intersect1d',\n",
        " 'intp',\n",
        " 'invert',\n",
        " 'ipmt',\n",
        " 'irr',\n",
        " 'is_busday',\n",
        " 'isclose',\n",
        " 'iscomplex',\n",
        " 'iscomplexobj',\n",
        " 'isfinite',\n",
        " 'isfortran',\n",
        " 'isinf',\n",
        " 'isnan',\n",
        " 'isneginf',\n",
        " 'isposinf',\n",
        " 'isreal',\n",
        " 'isrealobj',\n",
        " 'isscalar',\n",
        " 'issctype',\n",
        " 'issubclass_',\n",
        " 'issubdtype',\n",
        " 'issubsctype',\n",
        " 'iterable',\n",
        " 'ix_',\n",
        " 'kaiser',\n",
        " 'kron',\n",
        " 'ldexp',\n",
        " 'left_shift',\n",
        " 'less',\n",
        " 'less_equal',\n",
        " 'lexsort',\n",
        " 'lib',\n",
        " 'linalg',\n",
        " 'linspace',\n",
        " 'little_endian',\n",
        " 'load',\n",
        " 'loads',\n",
        " 'loadtxt',\n",
        " 'log',\n",
        " 'log10',\n",
        " 'log1p',\n",
        " 'log2',\n",
        " 'logaddexp',\n",
        " 'logaddexp2',\n",
        " 'logical_and',\n",
        " 'logical_not',\n",
        " 'logical_or',\n",
        " 'logical_xor',\n",
        " 'logspace',\n",
        " 'long',\n",
        " 'longcomplex',\n",
        " 'longdouble',\n",
        " 'longfloat',\n",
        " 'longlong',\n",
        " 'lookfor',\n",
        " 'ma',\n",
        " 'mafromtxt',\n",
        " 'mask_indices',\n",
        " 'mat',\n",
        " 'math',\n",
        " 'matrix',\n",
        " 'matrixlib',\n",
        " 'max',\n",
        " 'maximum',\n",
        " 'maximum_sctype',\n",
        " 'may_share_memory',\n",
        " 'mean',\n",
        " 'median',\n",
        " 'memmap',\n",
        " 'meshgrid',\n",
        " 'mgrid',\n",
        " 'min',\n",
        " 'min_scalar_type',\n",
        " 'minimum',\n",
        " 'mintypecode',\n",
        " 'mirr',\n",
        " 'mod',\n",
        " 'modf',\n",
        " 'msort',\n",
        " 'multiply',\n",
        " 'nan',\n",
        " 'nan_to_num',\n",
        " 'nanargmax',\n",
        " 'nanargmin',\n",
        " 'nanmax',\n",
        " 'nanmean',\n",
        " 'nanmedian',\n",
        " 'nanmin',\n",
        " 'nanpercentile',\n",
        " 'nanstd',\n",
        " 'nansum',\n",
        " 'nanvar',\n",
        " 'nbytes',\n",
        " 'ndarray',\n",
        " 'ndenumerate',\n",
        " 'ndfromtxt',\n",
        " 'ndim',\n",
        " 'ndindex',\n",
        " 'nditer',\n",
        " 'negative',\n",
        " 'nested_iters',\n",
        " 'newaxis',\n",
        " 'newbuffer',\n",
        " 'nextafter',\n",
        " 'nonzero',\n",
        " 'not_equal',\n",
        " 'nper',\n",
        " 'npv',\n",
        " 'numarray',\n",
        " 'number',\n",
        " 'obj2sctype',\n",
        " 'object',\n",
        " 'object0',\n",
        " 'object_',\n",
        " 'ogrid',\n",
        " 'oldnumeric',\n",
        " 'ones',\n",
        " 'ones_like',\n",
        " 'outer',\n",
        " 'packbits',\n",
        " 'pad',\n",
        " 'partition',\n",
        " 'percentile',\n",
        " 'pi',\n",
        " 'piecewise',\n",
        " 'pkgload',\n",
        " 'place',\n",
        " 'pmt',\n",
        " 'poly',\n",
        " 'poly1d',\n",
        " 'polyadd',\n",
        " 'polyder',\n",
        " 'polydiv',\n",
        " 'polyfit',\n",
        " 'polyint',\n",
        " 'polymul',\n",
        " 'polynomial',\n",
        " 'polysub',\n",
        " 'polyval',\n",
        " 'power',\n",
        " 'ppmt',\n",
        " 'print_function',\n",
        " 'prod',\n",
        " 'product',\n",
        " 'promote_types',\n",
        " 'ptp',\n",
        " 'put',\n",
        " 'putmask',\n",
        " 'pv',\n",
        " 'r_',\n",
        " 'rad2deg',\n",
        " 'radians',\n",
        " 'random',\n",
        " 'rank',\n",
        " 'rate',\n",
        " 'ravel',\n",
        " 'ravel_multi_index',\n",
        " 'real',\n",
        " 'real_if_close',\n",
        " 'rec',\n",
        " 'recarray',\n",
        " 'recfromcsv',\n",
        " 'recfromtxt',\n",
        " 'reciprocal',\n",
        " 'record',\n",
        " 'remainder',\n",
        " 'repeat',\n",
        " 'require',\n",
        " 'reshape',\n",
        " 'resize',\n",
        " 'restoredot',\n",
        " 'result_type',\n",
        " 'right_shift',\n",
        " 'rint',\n",
        " 'roll',\n",
        " 'rollaxis',\n",
        " 'roots',\n",
        " 'rot90',\n",
        " 'round',\n",
        " 'round_',\n",
        " 'row_stack',\n",
        " 's_',\n",
        " 'safe_eval',\n",
        " 'save',\n",
        " 'savetxt',\n",
        " 'savez',\n",
        " 'savez_compressed',\n",
        " 'sctype2char',\n",
        " 'sctypeDict',\n",
        " 'sctypeNA',\n",
        " 'sctypes',\n",
        " 'searchsorted',\n",
        " 'select',\n",
        " 'set_numeric_ops',\n",
        " 'set_printoptions',\n",
        " 'set_string_function',\n",
        " 'setbufsize',\n",
        " 'setdiff1d',\n",
        " 'seterr',\n",
        " 'seterrcall',\n",
        " 'seterrobj',\n",
        " 'setxor1d',\n",
        " 'shape',\n",
        " 'short',\n",
        " 'show_config',\n",
        " 'sign',\n",
        " 'signbit',\n",
        " 'signedinteger',\n",
        " 'sin',\n",
        " 'sinc',\n",
        " 'single',\n",
        " 'singlecomplex',\n",
        " 'sinh',\n",
        " 'size',\n",
        " 'sometrue',\n",
        " 'sort',\n",
        " 'sort_complex',\n",
        " 'source',\n",
        " 'spacing',\n",
        " 'split',\n",
        " 'sqrt',\n",
        " 'square',\n",
        " 'squeeze',\n",
        " 'std',\n",
        " 'str',\n",
        " 'str_',\n",
        " 'string0',\n",
        " 'string_',\n",
        " 'subtract',\n",
        " 'sum',\n",
        " 'swapaxes',\n",
        " 'sys',\n",
        " 'take',\n",
        " 'tan',\n",
        " 'tanh',\n",
        " 'tensordot',\n",
        " 'test',\n",
        " 'testing',\n",
        " 'tile',\n",
        " 'timedelta64',\n",
        " 'trace',\n",
        " 'transpose',\n",
        " 'trapz',\n",
        " 'tri',\n",
        " 'tril',\n",
        " 'tril_indices',\n",
        " 'tril_indices_from',\n",
        " 'trim_zeros',\n",
        " 'triu',\n",
        " 'triu_indices',\n",
        " 'triu_indices_from',\n",
        " 'true_divide',\n",
        " 'trunc',\n",
        " 'typeDict',\n",
        " 'typeNA',\n",
        " 'typecodes',\n",
        " 'typename',\n",
        " 'ubyte',\n",
        " 'ufunc',\n",
        " 'uint',\n",
        " 'uint0',\n",
        " 'uint16',\n",
        " 'uint32',\n",
        " 'uint64',\n",
        " 'uint8',\n",
        " 'uintc',\n",
        " 'uintp',\n",
        " 'ulonglong',\n",
        " 'unicode',\n",
        " 'unicode0',\n",
        " 'unicode_',\n",
        " 'union1d',\n",
        " 'unique',\n",
        " 'unpackbits',\n",
        " 'unravel_index',\n",
        " 'unsignedinteger',\n",
        " 'unwrap',\n",
        " 'ushort',\n",
        " 'vander',\n",
        " 'var',\n",
        " 'vdot',\n",
        " 'vectorize',\n",
        " 'version',\n",
        " 'void',\n",
        " 'void0',\n",
        " 'vsplit',\n",
        " 'vstack',\n",
        " 'warnings',\n",
        " 'where',\n",
        " 'who',\n",
        " 'zeros',\n",
        " 'zeros_like']"
       ]
      }
     ],
     "prompt_number": 72
    },
    {
     "cell_type": "code",
     "collapsed": false,
     "input": [
      "a = np.matrix([ [1,2], [3,4]])\n",
      "np.append(a, [[4,5]], 0)\n",
      "    "
     ],
     "language": "python",
     "metadata": {},
     "outputs": [
      {
       "metadata": {},
       "output_type": "pyout",
       "prompt_number": 75,
       "text": [
        "matrix([[1, 2],\n",
        "        [3, 4],\n",
        "        [4, 5]])"
       ]
      }
     ],
     "prompt_number": 75
    },
    {
     "cell_type": "code",
     "collapsed": false,
     "input": [
      "a.shape"
     ],
     "language": "python",
     "metadata": {},
     "outputs": [
      {
       "metadata": {},
       "output_type": "pyout",
       "prompt_number": 76,
       "text": [
        "(2, 2)"
       ]
      }
     ],
     "prompt_number": 76
    },
    {
     "cell_type": "code",
     "collapsed": false,
     "input": [
      "type(a)"
     ],
     "language": "python",
     "metadata": {},
     "outputs": [
      {
       "metadata": {},
       "output_type": "pyout",
       "prompt_number": 77,
       "text": [
        "numpy.matrixlib.defmatrix.matrix"
       ]
      }
     ],
     "prompt_number": 77
    }
   ],
   "metadata": {}
  }
 ]
}