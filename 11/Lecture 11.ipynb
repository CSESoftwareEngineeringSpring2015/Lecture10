{
 "metadata": {
  "name": "",
  "signature": "sha256:e446739c72b6300f856e31380919eee608c3f5cb653e076efb1649d224da3792"
 },
 "nbformat": 3,
 "nbformat_minor": 0,
 "worksheets": [
  {
   "cells": [
    {
     "cell_type": "heading",
     "level": 1,
     "metadata": {},
     "source": [
      "Test Driven Development"
     ]
    },
    {
     "cell_type": "heading",
     "level": 2,
     "metadata": {},
     "source": [
      "Method in csv_file_reader.py"
     ]
    },
    {
     "cell_type": "code",
     "collapsed": false,
     "input": [
      "from variable import Variable\n",
      "class CSVFileReader(object):  \n",
      "    \n",
      "  def __init__(self, filename):\n",
      "    self.filename = filename\n",
      "    self.columns = []\n",
      "    self.data = {}  # key is column name; value is Variable object\n",
      "    \n",
      "  def Read(self):\n",
      "    raw_data = {}\n",
      "    raw_columns = []\n",
      "    got_header = False\n",
      "    for line in open(self.filename, 'r'):\n",
      "      fields = line.strip().split(\",\")\n",
      "      if not got_header:\n",
      "        for i in range(0, len(fields)):\n",
      "          raw_columns.append(fields[i])\n",
      "          raw_data[raw_columns[i]] = []\n",
      "        got_header = True\n",
      "      else:\n",
      "        for i in range(0, len(fields)):\n",
      "          raw_data[raw_columns[i]].append(float(fields[i]))\n",
      "    for i in range(0, len(raw_columns)):\n",
      "      col = raw_columns[i]\n",
      "      stripped_col = col.replace(\"'\", \"\")  # String single quotes from the string\n",
      "      self.data[stripped_col] = Variable(stripped_col, raw_data[col])\n",
      "      self.columns.append(stripped_col)\n",
      "        \n",
      "  def __str__(self):\n",
      "    stg = \"\"\n",
      "    for c in self.columns:\n",
      "      stg += \"%s\\n\" % self.data[c].__str__()\n",
      "    return stg\n",
      "\n",
      "csv = CSVFileReader(\"11_THDPA.csv\")\n",
      "csv.Read()\n",
      "print csv"
     ],
     "language": "python",
     "metadata": {},
     "outputs": [
      {
       "output_type": "stream",
       "stream": "stdout",
       "text": [
        "S: [0.01, 0.05, 0.12, 0.2, 0.5, 1.0]\n",
        "r: [0.11, 0.19, 0.21, 0.22, 0.21, 0.21]\n",
        "\n"
       ]
      }
     ],
     "prompt_number": 1
    },
    {
     "cell_type": "code",
     "collapsed": false,
     "input": [
      "print csv.data['S']"
     ],
     "language": "python",
     "metadata": {},
     "outputs": []
    },
    {
     "cell_type": "code",
     "collapsed": false,
     "input": [
      "csv.data"
     ],
     "language": "python",
     "metadata": {},
     "outputs": []
    },
    {
     "cell_type": "markdown",
     "metadata": {},
     "source": [
      "Try some tests"
     ]
    },
    {
     "cell_type": "heading",
     "level": 1,
     "metadata": {},
     "source": [
      "Exceptions"
     ]
    },
    {
     "cell_type": "code",
     "collapsed": false,
     "input": [
      "def my_divide(x, y):\n",
      "  return x/y\n",
      "\n",
      "print my_divide(10,5)\n",
      "print my_divide(10,0)"
     ],
     "language": "python",
     "metadata": {},
     "outputs": [
      {
       "output_type": "stream",
       "stream": "stdout",
       "text": [
        "2\n"
       ]
      },
      {
       "ename": "ZeroDivisionError",
       "evalue": "integer division or modulo by zero",
       "output_type": "pyerr",
       "traceback": [
        "\u001b[0;31m---------------------------------------------------------------------------\u001b[0m\n\u001b[0;31mZeroDivisionError\u001b[0m                         Traceback (most recent call last)",
        "\u001b[0;32m<ipython-input-7-225bde65ddc5>\u001b[0m in \u001b[0;36m<module>\u001b[0;34m()\u001b[0m\n\u001b[1;32m      3\u001b[0m \u001b[0;34m\u001b[0m\u001b[0m\n\u001b[1;32m      4\u001b[0m \u001b[0;32mprint\u001b[0m \u001b[0mmy_divide\u001b[0m\u001b[0;34m(\u001b[0m\u001b[0;36m10\u001b[0m\u001b[0;34m,\u001b[0m\u001b[0;36m5\u001b[0m\u001b[0;34m)\u001b[0m\u001b[0;34m\u001b[0m\u001b[0m\n\u001b[0;32m----> 5\u001b[0;31m \u001b[0;32mprint\u001b[0m \u001b[0mmy_divide\u001b[0m\u001b[0;34m(\u001b[0m\u001b[0;36m10\u001b[0m\u001b[0;34m,\u001b[0m\u001b[0;36m0\u001b[0m\u001b[0;34m)\u001b[0m\u001b[0;34m\u001b[0m\u001b[0m\n\u001b[0m",
        "\u001b[0;32m<ipython-input-7-225bde65ddc5>\u001b[0m in \u001b[0;36mmy_divide\u001b[0;34m(x, y)\u001b[0m\n\u001b[1;32m      1\u001b[0m \u001b[0;32mdef\u001b[0m \u001b[0mmy_divide\u001b[0m\u001b[0;34m(\u001b[0m\u001b[0mx\u001b[0m\u001b[0;34m,\u001b[0m \u001b[0my\u001b[0m\u001b[0;34m)\u001b[0m\u001b[0;34m:\u001b[0m\u001b[0;34m\u001b[0m\u001b[0m\n\u001b[0;32m----> 2\u001b[0;31m   \u001b[0;32mreturn\u001b[0m \u001b[0mx\u001b[0m\u001b[0;34m/\u001b[0m\u001b[0my\u001b[0m\u001b[0;34m\u001b[0m\u001b[0m\n\u001b[0m\u001b[1;32m      3\u001b[0m \u001b[0;34m\u001b[0m\u001b[0m\n\u001b[1;32m      4\u001b[0m \u001b[0;32mprint\u001b[0m \u001b[0mmy_divide\u001b[0m\u001b[0;34m(\u001b[0m\u001b[0;36m10\u001b[0m\u001b[0;34m,\u001b[0m\u001b[0;36m5\u001b[0m\u001b[0;34m)\u001b[0m\u001b[0;34m\u001b[0m\u001b[0m\n\u001b[1;32m      5\u001b[0m \u001b[0;32mprint\u001b[0m \u001b[0mmy_divide\u001b[0m\u001b[0;34m(\u001b[0m\u001b[0;36m10\u001b[0m\u001b[0;34m,\u001b[0m\u001b[0;36m0\u001b[0m\u001b[0;34m)\u001b[0m\u001b[0;34m\u001b[0m\u001b[0m\n",
        "\u001b[0;31mZeroDivisionError\u001b[0m: integer division or modulo by zero"
       ]
      }
     ],
     "prompt_number": 7
    },
    {
     "cell_type": "code",
     "collapsed": false,
     "input": [
      "def my_divide(x, y):\n",
      "  try:\n",
      "    r = x/y\n",
      "  except:\n",
      "    r = None\n",
      "  return r\n",
      "\n",
      "print my_divide(10,5)\n",
      "print my_divide(10,0)"
     ],
     "language": "python",
     "metadata": {},
     "outputs": [
      {
       "output_type": "stream",
       "stream": "stdout",
       "text": [
        "2\n",
        "None\n"
       ]
      }
     ],
     "prompt_number": 6
    },
    {
     "cell_type": "heading",
     "level": 3,
     "metadata": {},
     "source": [
      "Get more information from an exception"
     ]
    },
    {
     "cell_type": "code",
     "collapsed": false,
     "input": [
      "def my_divide(x, y):\n",
      "  try:\n",
      "    r = x/y\n",
      "  except Exception as e:\n",
      "    print e.message\n",
      "    r = None\n",
      "  return r\n",
      "\n",
      "print my_divide(10,5)\n",
      "print my_divide(10,0)"
     ],
     "language": "python",
     "metadata": {},
     "outputs": [
      {
       "output_type": "stream",
       "stream": "stdout",
       "text": [
        "2\n",
        "integer division or modulo by zero\n",
        "None\n"
       ]
      }
     ],
     "prompt_number": 3
    },
    {
     "cell_type": "code",
     "collapsed": false,
     "input": [
      "my_divide(10,0)"
     ],
     "language": "python",
     "metadata": {},
     "outputs": [
      {
       "output_type": "stream",
       "stream": "stdout",
       "text": [
        "integer division or modulo by zero\n"
       ]
      }
     ],
     "prompt_number": 4
    },
    {
     "cell_type": "heading",
     "level": 3,
     "metadata": {},
     "source": [
      "Be selective about which exceptions you get"
     ]
    },
    {
     "cell_type": "code",
     "collapsed": false,
     "input": [
      "def my_divide(x, y):\n",
      "  try:\n",
      "    r = x/y\n",
      "  except ZeroDivisionError as e:\n",
      "    print e.message\n",
      "    r = None\n",
      "  return r\n",
      "\n",
      "print my_divide(10,5)\n",
      "print my_divide(10,0)"
     ],
     "language": "python",
     "metadata": {},
     "outputs": [
      {
       "output_type": "stream",
       "stream": "stdout",
       "text": [
        "2\n",
        "integer division or modulo by zero\n",
        "None\n"
       ]
      }
     ],
     "prompt_number": 8
    },
    {
     "cell_type": "code",
     "collapsed": false,
     "input": [
      "filename = \"11_THDPA.csv\"\n",
      "for line in open(filename, 'r'):\n",
      "  print line"
     ],
     "language": "python",
     "metadata": {},
     "outputs": [
      {
       "output_type": "stream",
       "stream": "stdout",
       "text": [
        "'S','r'\n",
        "\n",
        "0.01, 0.11\n",
        "\n",
        "0.05, .19\n",
        "\n",
        "0.12, 0.21\n",
        "\n",
        "0.2, 0.22\n",
        "\n",
        "0.5, 0.21\n",
        "\n",
        "1.0, 0.21\n",
        "\n"
       ]
      }
     ],
     "prompt_number": 10
    },
    {
     "cell_type": "code",
     "collapsed": false,
     "input": [
      "filename = \"11_THDP.csv\"\n",
      "for line in open(filename, 'r'):\n",
      "  print line"
     ],
     "language": "python",
     "metadata": {},
     "outputs": [
      {
       "ename": "IOError",
       "evalue": "[Errno 2] No such file or directory: '11_THDP.csv'",
       "output_type": "pyerr",
       "traceback": [
        "\u001b[0;31m---------------------------------------------------------------------------\u001b[0m\n\u001b[0;31mIOError\u001b[0m                                   Traceback (most recent call last)",
        "\u001b[0;32m<ipython-input-12-b46254a9a3d6>\u001b[0m in \u001b[0;36m<module>\u001b[0;34m()\u001b[0m\n\u001b[1;32m      1\u001b[0m \u001b[0mfilename\u001b[0m \u001b[0;34m=\u001b[0m \u001b[0;34m\"11_THDP.csv\"\u001b[0m\u001b[0;34m\u001b[0m\u001b[0m\n\u001b[0;32m----> 2\u001b[0;31m \u001b[0;32mfor\u001b[0m \u001b[0mline\u001b[0m \u001b[0;32min\u001b[0m \u001b[0mopen\u001b[0m\u001b[0;34m(\u001b[0m\u001b[0mfilename\u001b[0m\u001b[0;34m,\u001b[0m \u001b[0;34m'r'\u001b[0m\u001b[0;34m)\u001b[0m\u001b[0;34m:\u001b[0m\u001b[0;34m\u001b[0m\u001b[0m\n\u001b[0m\u001b[1;32m      3\u001b[0m   \u001b[0;32mprint\u001b[0m \u001b[0mline\u001b[0m\u001b[0;34m\u001b[0m\u001b[0m\n",
        "\u001b[0;31mIOError\u001b[0m: [Errno 2] No such file or directory: '11_THDP.csv'"
       ]
      }
     ],
     "prompt_number": 12
    },
    {
     "cell_type": "code",
     "collapsed": false,
     "input": [
      "filename = \"11_THDP.csv\"\n",
      "try:\n",
      "  for line in open(filename, 'r'):\n",
      "    print line\n",
      "except IOError as e:\n",
      "  print \"File %s not found\" % filename"
     ],
     "language": "python",
     "metadata": {},
     "outputs": [
      {
       "output_type": "stream",
       "stream": "stdout",
       "text": [
        "File 11_THDP.csv not found\n"
       ]
      }
     ],
     "prompt_number": 14
    },
    {
     "cell_type": "heading",
     "level": 1,
     "metadata": {},
     "source": [
      "Unit tests"
     ]
    },
    {
     "cell_type": "heading",
     "level": 2,
     "metadata": {},
     "source": [
      "The full CSVFileReaderClass"
     ]
    },
    {
     "cell_type": "code",
     "collapsed": false,
     "input": [
      "from variable import Variable\n",
      "class CSVFileReader(object):\n",
      "  '''\n",
      "     Reads one or more columns from a comma separated variable file\n",
      "     file a header.\n",
      "  '''\n",
      "  \n",
      "  def __init__(self, filename):\n",
      "    # Input: filename - string of file path to read\n",
      "    self.filename = filename\n",
      "    self.names = []\n",
      "    self.data = {}\n",
      "\n",
      "\n",
      "  def Read(self):\n",
      "    raw_data = {}\n",
      "    raw_names = []\n",
      "    got_header = False\n",
      "    for line in open(self.filename, 'r'):\n",
      "      fields = line.strip().split(\",\")\n",
      "      if not got_header:\n",
      "        for i in range(0, len(fields)):\n",
      "          raw_names.append(fields[i])\n",
      "          raw_data[raw_names[i]] = []\n",
      "        got_header = True\n",
      "      else:\n",
      "        for i in range(0, len(fields)):\n",
      "          raw_data[raw_names[i]].append(float(fields[i]))\n",
      "    for i in range(0, len(raw_names)):\n",
      "      col = raw_names[i]\n",
      "      stripped_col = col.replace(\"'\", \"\")  # remove single quotes\n",
      "      self.data[stripped_col] = Variable(stripped_col, raw_data[col])\n",
      "      self.names.append(stripped_col)\n",
      "\n",
      "  def GetColumnNames(self):\n",
      "    # Returns: list of column names\n",
      "    result = self.names\n",
      "    return(self.names)\n",
      "\n",
      "  def GetColumnData(self, name):\n",
      "    # Returns: Variable associated with the column name\n",
      "    return(self.data[name])\n",
      "\n"
     ],
     "language": "python",
     "metadata": {},
     "outputs": [],
     "prompt_number": 26
    },
    {
     "cell_type": "heading",
     "level": 2,
     "metadata": {},
     "source": [
      "Test for constructor"
     ]
    },
    {
     "cell_type": "code",
     "collapsed": false,
     "input": [
      "filename = \"11_THDPA.csv\"\n",
      "csv = CSVFileReader(filename)\n",
      "if ((csv.filename != filename) & \n",
      "    (len(csv.names) == 0) & \n",
      "    (len(csv.data) == 0)):\n",
      "  print \"Something's wrong!\"\n",
      "else:\n",
      "  print \"Looks good to me\""
     ],
     "language": "python",
     "metadata": {},
     "outputs": [
      {
       "output_type": "stream",
       "stream": "stdout",
       "text": [
        "Looks good to me\n"
       ]
      }
     ],
     "prompt_number": 30
    },
    {
     "cell_type": "code",
     "collapsed": false,
     "input": [],
     "language": "python",
     "metadata": {},
     "outputs": [
      {
       "ename": "SyntaxError",
       "evalue": "invalid syntax (<ipython-input-20-142e04b4544c>, line 1)",
       "output_type": "pyerr",
       "traceback": [
        "\u001b[0;36m  File \u001b[0;32m\"<ipython-input-20-142e04b4544c>\"\u001b[0;36m, line \u001b[0;32m1\u001b[0m\n\u001b[0;31m    True && False\u001b[0m\n\u001b[0m          ^\u001b[0m\n\u001b[0;31mSyntaxError\u001b[0m\u001b[0;31m:\u001b[0m invalid syntax\n"
       ]
      }
     ],
     "prompt_number": 20
    }
   ],
   "metadata": {}
  }
 ]
}