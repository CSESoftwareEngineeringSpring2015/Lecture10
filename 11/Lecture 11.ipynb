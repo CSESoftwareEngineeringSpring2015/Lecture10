{
 "metadata": {
  "name": "",
  "signature": "sha256:538f8351fc06aed88168cf55983fc8e4d5f7fa6f636be57899dfdb6890c7c813"
 },
 "nbformat": 3,
 "nbformat_minor": 0,
 "worksheets": [
  {
   "cells": [
    {
     "cell_type": "heading",
     "level": 1,
     "metadata": {},
     "source": [
      "Converting Mechaelis-Mention Analysis to Python"
     ]
    },
    {
     "cell_type": "heading",
     "level": 2,
     "metadata": {},
     "source": [
      "Plotting Raw Data"
     ]
    },
    {
     "cell_type": "heading",
     "level": 3,
     "metadata": {},
     "source": [
      "MATLAB Code"
     ]
    },
    {
     "cell_type": "markdown",
     "metadata": {},
     "source": [
      "`function plotMichaelisData(data)\n",
      "    plot(data(:, 1), data(:, 2), 'o')\n",
      "    xlabel('[THDPA] (M)'), ylabel('v (M/s)')\n",
      "    title('Michaelis-Menten Raw Data and Best Fit'), axis([0 1 0 0.3])\n",
      "end`"
     ]
    },
    {
     "cell_type": "code",
     "collapsed": false,
     "input": [
      "%matplotlib inline"
     ],
     "language": "python",
     "metadata": {},
     "outputs": [],
     "prompt_number": 15
    },
    {
     "cell_type": "heading",
     "level": 3,
     "metadata": {},
     "source": [
      "Python Code"
     ]
    },
    {
     "cell_type": "code",
     "collapsed": false,
     "input": [
      "from numpy import *"
     ],
     "language": "python",
     "metadata": {},
     "outputs": [],
     "prompt_number": 1
    },
    {
     "cell_type": "code",
     "collapsed": false,
     "input": [
      "b = array( [ (1.5,2,3), (4,5,6) ] )\n",
      "print b"
     ],
     "language": "python",
     "metadata": {},
     "outputs": [
      {
       "output_type": "stream",
       "stream": "stdout",
       "text": [
        "[[ 1.5  2.   3. ]\n",
        " [ 4.   5.   6. ]]\n"
       ]
      }
     ],
     "prompt_number": 3
    },
    {
     "cell_type": "markdown",
     "metadata": {},
     "source": [
      "MATLAB DATA\n",
      "'data = [0.01 0.11; 0.05 0.19; 0.12 0.21; 0.2 0.22; 0.5 0.21; 1 0.24];"
     ]
    },
    {
     "cell_type": "code",
     "collapsed": false,
     "input": [
      "import numpy as np"
     ],
     "language": "python",
     "metadata": {},
     "outputs": [],
     "prompt_number": 5
    },
    {
     "cell_type": "code",
     "collapsed": false,
     "input": [
      "b = np.array( [ (1.5,2,3), (4,5,6) ] )\n",
      "print b"
     ],
     "language": "python",
     "metadata": {},
     "outputs": [
      {
       "output_type": "stream",
       "stream": "stdout",
       "text": [
        "[[ 1.5  2.   3. ]\n",
        " [ 4.   5.   6. ]]\n"
       ]
      }
     ],
     "prompt_number": 6
    },
    {
     "cell_type": "code",
     "collapsed": false,
     "input": [
      "row_one_list = [0.01, 0.11]\n",
      "list_data = [[0.01, 0.11], [0.05, 0.19], [0.12, 0.21], [0.2, 0.22], [0.5, 0.21], [1, 0.24]]\n",
      "data = np.matrix(list_data)\n",
      "print data"
     ],
     "language": "python",
     "metadata": {},
     "outputs": [
      {
       "output_type": "stream",
       "stream": "stdout",
       "text": [
        "[[ 0.01  0.11]\n",
        " [ 0.05  0.19]\n",
        " [ 0.12  0.21]\n",
        " [ 0.2   0.22]\n",
        " [ 0.5   0.21]\n",
        " [ 1.    0.24]]\n"
       ]
      }
     ],
     "prompt_number": 9
    },
    {
     "cell_type": "code",
     "collapsed": false,
     "input": [
      "data.reshape(2,6)"
     ],
     "language": "python",
     "metadata": {},
     "outputs": [
      {
       "metadata": {},
       "output_type": "pyout",
       "prompt_number": 10,
       "text": [
        "matrix([[ 0.01,  0.11,  0.05,  0.19,  0.12,  0.21],\n",
        "        [ 0.2 ,  0.22,  0.5 ,  0.21,  1.  ,  0.24]])"
       ]
      }
     ],
     "prompt_number": 10
    },
    {
     "cell_type": "code",
     "collapsed": false,
     "input": [
      "substrate = \"THDPA\"\n",
      "print substrate"
     ],
     "language": "python",
     "metadata": {},
     "outputs": [
      {
       "output_type": "stream",
       "stream": "stdout",
       "text": [
        "THDPA\n"
       ]
      }
     ],
     "prompt_number": 12
    },
    {
     "cell_type": "code",
     "collapsed": false,
     "input": [
      "import matplotlib.pyplot as p\n",
      "def plot_data(data, xlab):\n",
      "    p.plot(data[:,0], data[:,1], 'o')\n",
      "    p.xlabel(xlab, fontsize=20)\n",
      "    p.ylabel('V', fontsize=20)\n",
      "    p.axis([0, 1, 0, 0.3])\n",
      "    "
     ],
     "language": "python",
     "metadata": {},
     "outputs": [],
     "prompt_number": 18
    },
    {
     "cell_type": "code",
     "collapsed": false,
     "input": [
      "plot_data(data, 'THDPA')"
     ],
     "language": "python",
     "metadata": {},
     "outputs": [
      {
       "metadata": {},
       "output_type": "display_data",
       "png": "[encoded data removed]",
       "text": [
        "<matplotlib.figure.Figure at 0x10983b150>"
       ]
      }
     ],
     "prompt_number": 19
    },
    {
     "cell_type": "heading",
     "level": 2,
     "metadata": {},
     "source": [
      "Estimating M.M. Parameters"
     ]
    },
    {
     "cell_type": "heading",
     "level": 3,
     "metadata": {},
     "source": [
      "MATLAB Code"
     ]
    },
    {
     "cell_type": "markdown",
     "metadata": {},
     "source": [
      "`function [Vmax, Km] = parameterMichaelis(data)\n",
      "    invData = 1./data;\n",
      "    % Create a matrix of 1's using the number of rows\n",
      "    oneMat = repmat(1, size(data, 1), 1);\n",
      "    xAug = [oneMat invData(:, 1)];\n",
      "    est = pinv(xAug.'*xAug)*xAug.'*invData(:, 2);\n",
      "    Vmax = 1/est(1);\n",
      "    Km = Vmax*est(2);\n",
      "end`"
     ]
    },
    {
     "cell_type": "heading",
     "level": 3,
     "metadata": {},
     "source": [
      "Python Code"
     ]
    },
    {
     "cell_type": "code",
     "collapsed": false,
     "input": [
      "def func(data):\n",
      "    # Input: data - N by 2 matrix; col 1 is substrate; col2 is V\n",
      "    invData = 1/data\n",
      "    nrows = data.shape[0]\n",
      "    onemat = np.ones((nrows, 1))\n",
      "    firstc = invData[:,0]\n",
      "    xAug = hstack((onemat[0:6],firstc[0:6]))\n",
      "    est = \n",
      "                     "
     ],
     "language": "python",
     "metadata": {},
     "outputs": [],
     "prompt_number": 34
    },
    {
     "cell_type": "code",
     "collapsed": false,
     "input": [
      "a = np.array([[1, 2], [3, 4]])\n",
      "print a\n",
      "print a.transpose()"
     ],
     "language": "python",
     "metadata": {},
     "outputs": [
      {
       "output_type": "stream",
       "stream": "stdout",
       "text": [
        "[[1 2]\n",
        " [3 4]]\n",
        "[[1 3]\n",
        " [2 4]]\n"
       ]
      }
     ],
     "prompt_number": 36
    },
    {
     "cell_type": "code",
     "collapsed": false,
     "input": [
      "x = xAug.transpose()*xAug"
     ],
     "language": "python",
     "metadata": {},
     "outputs": [],
     "prompt_number": 43
    },
    {
     "cell_type": "code",
     "collapsed": false,
     "input": [
      "print np.linalg.pinv(xAug.transpose()*xAug)"
     ],
     "language": "python",
     "metadata": {},
     "outputs": [
      {
       "output_type": "stream",
       "stream": "stdout",
       "text": [
        "[[  2.36421318e-01  -3.06988684e-03]\n",
        " [ -3.06988684e-03   1.35105044e-04]]\n"
       ]
      }
     ],
     "prompt_number": 46
    },
    {
     "cell_type": "heading",
     "level": 2,
     "metadata": {},
     "source": [
      "Plotting Fitted Data"
     ]
    },
    {
     "cell_type": "heading",
     "level": 3,
     "metadata": {},
     "source": [
      "MATLAB Code"
     ]
    },
    {
     "cell_type": "markdown",
     "metadata": {},
     "source": [
      "`function plotMichaelisCurve(Vmax, Km, data)\n",
      "    S = data(:, 1);\n",
      "    v = Vmax*S./(Km + S);\n",
      "    plot(S, v, 'r')\n",
      "end`"
     ]
    },
    {
     "cell_type": "heading",
     "level": 3,
     "metadata": {},
     "source": [
      "Python Code"
     ]
    },
    {
     "cell_type": "code",
     "collapsed": false,
     "input": [],
     "language": "python",
     "metadata": {},
     "outputs": [],
     "prompt_number": 2
    },
    {
     "cell_type": "heading",
     "level": 2,
     "metadata": {},
     "source": [
      "Main Script"
     ]
    },
    {
     "cell_type": "heading",
     "level": 3,
     "metadata": {},
     "source": [
      "MATLAB Code"
     ]
    },
    {
     "cell_type": "markdown",
     "metadata": {},
     "source": [
      "`clear all, close all, clc\n",
      "data = [0.01 0.11; 0.05 0.19; 0.12 0.21; 0.2 0.22; 0.5 0.21; 1 0.24];\n",
      "[Vmax, Km] = parameterMichaelis(data);\n",
      "plotMichaelisData(data), hold on\n",
      "plotMichaelisCurve(Vmax, Km, data), hold off\n",
      "% Polyfit eliminates all the math that is used to find the best fit line.\n",
      "% We can directly get the best fit line using P = \n",
      "% polyfit(invData(:, 1), invData(:, 2), 1) of that data, where 1 indicates \n",
      "% a best-fit linear equation of that order. In parameterMichaelis. I would\n",
      "% use polyfit on the reciprocal data and immediately get the slope and\n",
      "% y-intercept (Vmax = P(1), Km = P(2)).`"
     ]
    },
    {
     "cell_type": "heading",
     "level": 3,
     "metadata": {},
     "source": [
      "Python Code"
     ]
    },
    {
     "cell_type": "code",
     "collapsed": false,
     "input": [],
     "language": "python",
     "metadata": {},
     "outputs": [],
     "prompt_number": 2
    }
   ],
   "metadata": {}
  }
 ]
}