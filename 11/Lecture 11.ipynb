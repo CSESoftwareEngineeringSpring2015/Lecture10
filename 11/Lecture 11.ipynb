{
 "metadata": {
  "name": "",
  "signature": "sha256:17762c3950f0ddf834b0a01bbf18b631000aa48ec84fc29380eea4660f97c959"
 },
 "nbformat": 3,
 "nbformat_minor": 0,
 "worksheets": [
  {
   "cells": [
    {
     "cell_type": "heading",
     "level": 1,
     "metadata": {},
     "source": [
      "Converting Mechaelis-Mention Analysis to Python"
     ]
    },
    {
     "cell_type": "heading",
     "level": 2,
     "metadata": {},
     "source": [
      "Plotting Raw Data"
     ]
    },
    {
     "cell_type": "heading",
     "level": 3,
     "metadata": {},
     "source": [
      "MATLAB Code"
     ]
    },
    {
     "cell_type": "markdown",
     "metadata": {},
     "source": [
      "`function plotMichaelisData(data)\n",
      "    plot(data(:, 1), data(:, 2), 'o')\n",
      "    xlabel('[THDPA] (M)'), ylabel('v (M/s)')\n",
      "    title('Michaelis-Menten Raw Data and Best Fit'), axis([0 1 0 0.3])\n",
      "end`"
     ]
    },
    {
     "cell_type": "heading",
     "level": 3,
     "metadata": {},
     "source": [
      "Python Code"
     ]
    },
    {
     "cell_type": "code",
     "collapsed": false,
     "input": [],
     "language": "python",
     "metadata": {},
     "outputs": []
    },
    {
     "cell_type": "heading",
     "level": 2,
     "metadata": {},
     "source": [
      "Estimating M.M. Parameters"
     ]
    },
    {
     "cell_type": "heading",
     "level": 3,
     "metadata": {},
     "source": [
      "MATLAB Code"
     ]
    },
    {
     "cell_type": "markdown",
     "metadata": {},
     "source": [
      "`function [Vmax, Km] = parameterMichaelis(data)\n",
      "    invData = 1./data;\n",
      "    % Create a matrix of 1's using the number of rows\n",
      "    oneMat = repmat(1, size(data, 1), 1);\n",
      "    xAug = [oneMat invData(:, 1)];\n",
      "    est = pinv(xAug.'*xAug)*xAug.'*invData(:, 2);\n",
      "    Vmax = 1/est(1);\n",
      "    Km = Vmax*est(2);\n",
      "end`"
     ]
    },
    {
     "cell_type": "heading",
     "level": 3,
     "metadata": {},
     "source": [
      "Python Code"
     ]
    },
    {
     "cell_type": "code",
     "collapsed": false,
     "input": [],
     "language": "python",
     "metadata": {},
     "outputs": []
    },
    {
     "cell_type": "heading",
     "level": 2,
     "metadata": {},
     "source": [
      "Plotting Fitted Data"
     ]
    },
    {
     "cell_type": "heading",
     "level": 3,
     "metadata": {},
     "source": [
      "MATLAB Code"
     ]
    },
    {
     "cell_type": "markdown",
     "metadata": {},
     "source": [
      "`function plotMichaelisCurve(Vmax, Km, data)\n",
      "    S = data(:, 1);\n",
      "    v = Vmax*S./(Km + S);\n",
      "    plot(S, v, 'r')\n",
      "end`"
     ]
    },
    {
     "cell_type": "heading",
     "level": 3,
     "metadata": {},
     "source": [
      "Python Code"
     ]
    },
    {
     "cell_type": "code",
     "collapsed": false,
     "input": [],
     "language": "python",
     "metadata": {},
     "outputs": [],
     "prompt_number": 2
    },
    {
     "cell_type": "heading",
     "level": 2,
     "metadata": {},
     "source": [
      "Main Script"
     ]
    },
    {
     "cell_type": "heading",
     "level": 3,
     "metadata": {},
     "source": [
      "MATLAB Code"
     ]
    },
    {
     "cell_type": "markdown",
     "metadata": {},
     "source": [
      "`clear all, close all, clc\n",
      "data = [0.01 0.11; 0.05 0.19; 0.12 0.21; 0.2 0.22; 0.5 0.21; 1 0.24];\n",
      "[Vmax, Km] = parameterMichaelis(data);\n",
      "plotMichaelisData(data), hold on\n",
      "plotMichaelisCurve(Vmax, Km, data), hold off\n",
      "% Polyfit eliminates all the math that is used to find the best fit line.\n",
      "% We can directly get the best fit line using P = \n",
      "% polyfit(invData(:, 1), invData(:, 2), 1) of that data, where 1 indicates \n",
      "% a best-fit linear equation of that order. In parameterMichaelis. I would\n",
      "% use polyfit on the reciprocal data and immediately get the slope and\n",
      "% y-intercept (Vmax = P(1), Km = P(2)).`"
     ]
    },
    {
     "cell_type": "heading",
     "level": 3,
     "metadata": {},
     "source": [
      "Python Code"
     ]
    },
    {
     "cell_type": "code",
     "collapsed": false,
     "input": [],
     "language": "python",
     "metadata": {},
     "outputs": []
    }
   ],
   "metadata": {}
  }
 ]
}