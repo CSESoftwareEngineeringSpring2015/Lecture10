{
 "metadata": {
  "name": "",
  "signature": "sha256:ef077bdbefd0297959bcba92d0879fabf13d07989831946897cc227839c05e74"
 },
 "nbformat": 3,
 "nbformat_minor": 0,
 "worksheets": [
  {
   "cells": [
    {
     "cell_type": "heading",
     "level": 1,
     "metadata": {},
     "source": [
      "Test Driven Development"
     ]
    },
    {
     "cell_type": "heading",
     "level": 2,
     "metadata": {},
     "source": [
      "Method in csv_file_reader.py"
     ]
    },
    {
     "cell_type": "code",
     "collapsed": false,
     "input": [
      "from variable import Variable\n",
      "class CSVFileReader(object):  \n",
      "    \n",
      "  def __init__(self, filename):\n",
      "    self.filename = filename\n",
      "    self.columns = []\n",
      "    self.data = {}  # key is column name; value is Variable object\n",
      "    \n",
      "  def Read(self):\n",
      "    raw_data = {}\n",
      "    raw_columns = []\n",
      "    got_header = False\n",
      "    for line in open(self.filename, 'r'):\n",
      "      fields = line.strip().split(\",\")\n",
      "      if not got_header:\n",
      "        for i in range(0, len(fields)):\n",
      "          raw_columns.append(fields[i])\n",
      "          raw_data[raw_columns[i]] = []\n",
      "        got_header = True\n",
      "      else:\n",
      "        for i in range(0, len(fields)):\n",
      "          raw_data[raw_columns[i]].append(float(fields[i]))\n",
      "    for i in range(0, len(raw_columns)):\n",
      "      col = raw_columns[i]\n",
      "      stripped_col = col.replace(\"'\", \"\")  # String single quotes from the string\n",
      "      self.data[stripped_col] = Variable(stripped_col, raw_data[col])\n",
      "      self.columns.append(stripped_col)\n",
      "        \n",
      "  def __str__(self):\n",
      "    stg = \"\"\n",
      "    for c in self.columns:\n",
      "      stg += \"%s\\n\" % self.data[c].__str__()\n",
      "    return stg\n",
      "\n"
     ],
     "language": "python",
     "metadata": {},
     "outputs": [],
     "prompt_number": 38
    },
    {
     "cell_type": "code",
     "collapsed": false,
     "input": [
      "csv2.Read()\n",
      "csv2 = CSVFileReader(\"12_THDPA.csv\")\n"
     ],
     "language": "python",
     "metadata": {},
     "outputs": [
      {
       "ename": "NameError",
       "evalue": "name 'csv1' is not defined",
       "output_type": "pyerr",
       "traceback": [
        "\u001b[0;31m---------------------------------------------------------------------------\u001b[0m\n\u001b[0;31mNameError\u001b[0m                                 Traceback (most recent call last)",
        "\u001b[0;32m<ipython-input-7-d4eb04e26c9f>\u001b[0m in \u001b[0;36m<module>\u001b[0;34m()\u001b[0m\n\u001b[0;32m----> 1\u001b[0;31m \u001b[0;32mprint\u001b[0m \u001b[0mcsv1\u001b[0m\u001b[0;34m.\u001b[0m\u001b[0mfilename\u001b[0m\u001b[0;34m\u001b[0m\u001b[0m\n\u001b[0m\u001b[1;32m      2\u001b[0m \u001b[0mcsv1\u001b[0m \u001b[0;34m=\u001b[0m \u001b[0mCSVFileReader\u001b[0m\u001b[0;34m(\u001b[0m\u001b[0;34m\"12_THDPA.csv\"\u001b[0m\u001b[0;34m)\u001b[0m\u001b[0;34m\u001b[0m\u001b[0m\n",
        "\u001b[0;31mNameError\u001b[0m: name 'csv1' is not defined"
       ]
      }
     ],
     "prompt_number": 7
    },
    {
     "cell_type": "code",
     "collapsed": false,
     "input": [],
     "language": "python",
     "metadata": {},
     "outputs": []
    },
    {
     "cell_type": "code",
     "collapsed": false,
     "input": [
      "csv.data"
     ],
     "language": "python",
     "metadata": {},
     "outputs": []
    },
    {
     "cell_type": "markdown",
     "metadata": {},
     "source": [
      "Try some tests"
     ]
    },
    {
     "cell_type": "heading",
     "level": 1,
     "metadata": {},
     "source": [
      "Exceptions"
     ]
    },
    {
     "cell_type": "code",
     "collapsed": false,
     "input": [
      "def my_divide(x, y):\n",
      "  return x/y\n",
      "\n",
      "print my_divide(4.3,0)"
     ],
     "language": "python",
     "metadata": {},
     "outputs": [
      {
       "ename": "ZeroDivisionError",
       "evalue": "float division by zero",
       "output_type": "pyerr",
       "traceback": [
        "\u001b[0;31m---------------------------------------------------------------------------\u001b[0m\n\u001b[0;31mZeroDivisionError\u001b[0m                         Traceback (most recent call last)",
        "\u001b[0;32m<ipython-input-10-0f54ce2f0353>\u001b[0m in \u001b[0;36m<module>\u001b[0;34m()\u001b[0m\n\u001b[1;32m      2\u001b[0m   \u001b[0;32mreturn\u001b[0m \u001b[0mx\u001b[0m\u001b[0;34m/\u001b[0m\u001b[0my\u001b[0m\u001b[0;34m\u001b[0m\u001b[0m\n\u001b[1;32m      3\u001b[0m \u001b[0;34m\u001b[0m\u001b[0m\n\u001b[0;32m----> 4\u001b[0;31m \u001b[0;32mprint\u001b[0m \u001b[0mmy_divide\u001b[0m\u001b[0;34m(\u001b[0m\u001b[0;36m4.3\u001b[0m\u001b[0;34m,\u001b[0m\u001b[0;36m0\u001b[0m\u001b[0;34m)\u001b[0m\u001b[0;34m\u001b[0m\u001b[0m\n\u001b[0m",
        "\u001b[0;32m<ipython-input-10-0f54ce2f0353>\u001b[0m in \u001b[0;36mmy_divide\u001b[0;34m(x, y)\u001b[0m\n\u001b[1;32m      1\u001b[0m \u001b[0;32mdef\u001b[0m \u001b[0mmy_divide\u001b[0m\u001b[0;34m(\u001b[0m\u001b[0mx\u001b[0m\u001b[0;34m,\u001b[0m \u001b[0my\u001b[0m\u001b[0;34m)\u001b[0m\u001b[0;34m:\u001b[0m\u001b[0;34m\u001b[0m\u001b[0m\n\u001b[0;32m----> 2\u001b[0;31m   \u001b[0;32mreturn\u001b[0m \u001b[0mx\u001b[0m\u001b[0;34m/\u001b[0m\u001b[0my\u001b[0m\u001b[0;34m\u001b[0m\u001b[0m\n\u001b[0m\u001b[1;32m      3\u001b[0m \u001b[0;34m\u001b[0m\u001b[0m\n\u001b[1;32m      4\u001b[0m \u001b[0;32mprint\u001b[0m \u001b[0mmy_divide\u001b[0m\u001b[0;34m(\u001b[0m\u001b[0;36m4.3\u001b[0m\u001b[0;34m,\u001b[0m\u001b[0;36m0\u001b[0m\u001b[0;34m)\u001b[0m\u001b[0;34m\u001b[0m\u001b[0m\n",
        "\u001b[0;31mZeroDivisionError\u001b[0m: float division by zero"
       ]
      }
     ],
     "prompt_number": 10
    },
    {
     "cell_type": "code",
     "collapsed": false,
     "input": [
      "def my_divide(x, y):\n",
      "  try:\n",
      "    r = x/y\n",
      "  except:\n",
      "    r = None\n",
      "  return r\n"
     ],
     "language": "python",
     "metadata": {},
     "outputs": [],
     "prompt_number": 12
    },
    {
     "cell_type": "code",
     "collapsed": false,
     "input": [
      "print my_divide(0,0)"
     ],
     "language": "python",
     "metadata": {},
     "outputs": [
      {
       "output_type": "stream",
       "stream": "stdout",
       "text": [
        "None\n"
       ]
      }
     ],
     "prompt_number": 14
    },
    {
     "cell_type": "heading",
     "level": 3,
     "metadata": {},
     "source": [
      "Get more information from an exception"
     ]
    },
    {
     "cell_type": "code",
     "collapsed": false,
     "input": [
      "def my_divide(x, y):\n",
      "  try:\n",
      "    r = x/y\n",
      "  except Exception as e:\n",
      "    print e.message\n",
      "    r = None\n",
      "  return r\n"
     ],
     "language": "python",
     "metadata": {},
     "outputs": [],
     "prompt_number": 15
    },
    {
     "cell_type": "code",
     "collapsed": false,
     "input": [
      "try:\n",
      "    r = 3.0/0\n",
      "except Exception as e:\n",
      "    print e.message\n",
      "    r = None"
     ],
     "language": "python",
     "metadata": {},
     "outputs": [
      {
       "output_type": "stream",
       "stream": "stdout",
       "text": [
        "float division by zero\n"
       ]
      }
     ],
     "prompt_number": 18
    },
    {
     "cell_type": "heading",
     "level": 3,
     "metadata": {},
     "source": [
      "Be selective about which exceptions you get"
     ]
    },
    {
     "cell_type": "code",
     "collapsed": false,
     "input": [
      "e.args"
     ],
     "language": "python",
     "metadata": {},
     "outputs": [
      {
       "metadata": {},
       "output_type": "pyout",
       "prompt_number": 20,
       "text": [
        "('float division by zero',)"
       ]
      }
     ],
     "prompt_number": 20
    },
    {
     "cell_type": "code",
     "collapsed": false,
     "input": [
      "def my_divide(x, y):\n",
      "  try:\n",
      "    r = x/y\n",
      "  except ZeroDivisionError as e:\n",
      "    print e.message\n",
      "    r = None\n",
      "  return r\n",
      "\n",
      "print my_divide(10,5)\n",
      "print my_divide(10,0)"
     ],
     "language": "python",
     "metadata": {},
     "outputs": [
      {
       "output_type": "stream",
       "stream": "stdout",
       "text": [
        "2\n",
        "integer division or modulo by zero\n",
        "None\n"
       ]
      }
     ],
     "prompt_number": 8
    },
    {
     "cell_type": "code",
     "collapsed": false,
     "input": [
      "filename = \"11_THDPA.csv\"\n",
      "try:\n",
      "  for line in open(filename, 'r'):\n",
      "    print line\n",
      "except Exception as e:\n",
      "    print \"File %s not found\" % filename"
     ],
     "language": "python",
     "metadata": {},
     "outputs": [
      {
       "output_type": "stream",
       "stream": "stdout",
       "text": [
        "File 11_THDPA.csv not found\n"
       ]
      }
     ],
     "prompt_number": 24
    },
    {
     "cell_type": "code",
     "collapsed": false,
     "input": [
      "filename = \"xxx_THDPA.csv\"\n",
      "csv = CSVFileReader(filename)\n",
      "if ((csv.filename != filename) or \n",
      "    (len(csv.columns) != 0) or \n",
      "    (len(csv.data) != 0)):\n",
      "  print \"Something's wrong!\"\n",
      "else:\n",
      "  print \"Looks good to me\""
     ],
     "language": "python",
     "metadata": {},
     "outputs": [
      {
       "output_type": "stream",
       "stream": "stdout",
       "text": [
        "Looks good to me\n"
       ]
      }
     ],
     "prompt_number": 32
    },
    {
     "cell_type": "code",
     "collapsed": false,
     "input": [
      "True or False"
     ],
     "language": "python",
     "metadata": {},
     "outputs": [
      {
       "metadata": {},
       "output_type": "pyout",
       "prompt_number": 28,
       "text": [
        "True"
       ]
      }
     ],
     "prompt_number": 28
    },
    {
     "cell_type": "code",
     "collapsed": false,
     "input": [
      "1 != 22"
     ],
     "language": "python",
     "metadata": {},
     "outputs": [
      {
       "metadata": {},
       "output_type": "pyout",
       "prompt_number": 30,
       "text": [
        "True"
       ]
      }
     ],
     "prompt_number": 30
    },
    {
     "cell_type": "code",
     "collapsed": false,
     "input": [
      "filename = \"11_THDP.csv\"\n",
      "for line in open(filename, 'r'):\n",
      "  print line"
     ],
     "language": "python",
     "metadata": {},
     "outputs": [
      {
       "ename": "IOError",
       "evalue": "[Errno 2] No such file or directory: '11_THDP.csv'",
       "output_type": "pyerr",
       "traceback": [
        "\u001b[0;31m---------------------------------------------------------------------------\u001b[0m\n\u001b[0;31mIOError\u001b[0m                                   Traceback (most recent call last)",
        "\u001b[0;32m<ipython-input-12-b46254a9a3d6>\u001b[0m in \u001b[0;36m<module>\u001b[0;34m()\u001b[0m\n\u001b[1;32m      1\u001b[0m \u001b[0mfilename\u001b[0m \u001b[0;34m=\u001b[0m \u001b[0;34m\"11_THDP.csv\"\u001b[0m\u001b[0;34m\u001b[0m\u001b[0m\n\u001b[0;32m----> 2\u001b[0;31m \u001b[0;32mfor\u001b[0m \u001b[0mline\u001b[0m \u001b[0;32min\u001b[0m \u001b[0mopen\u001b[0m\u001b[0;34m(\u001b[0m\u001b[0mfilename\u001b[0m\u001b[0;34m,\u001b[0m \u001b[0;34m'r'\u001b[0m\u001b[0;34m)\u001b[0m\u001b[0;34m:\u001b[0m\u001b[0;34m\u001b[0m\u001b[0m\n\u001b[0m\u001b[1;32m      3\u001b[0m   \u001b[0;32mprint\u001b[0m \u001b[0mline\u001b[0m\u001b[0;34m\u001b[0m\u001b[0m\n",
        "\u001b[0;31mIOError\u001b[0m: [Errno 2] No such file or directory: '11_THDP.csv'"
       ]
      }
     ],
     "prompt_number": 12
    },
    {
     "cell_type": "code",
     "collapsed": false,
     "input": [
      "filename = \"11_THDP.csv\"\n",
      "try:\n",
      "  for line in open(filename, 'r'):\n",
      "    print line\n",
      "except IOError as e:\n",
      "  print \"File %s not found\" % filename"
     ],
     "language": "python",
     "metadata": {},
     "outputs": [
      {
       "output_type": "stream",
       "stream": "stdout",
       "text": [
        "File 11_THDP.csv not found\n"
       ]
      }
     ],
     "prompt_number": 14
    },
    {
     "cell_type": "heading",
     "level": 1,
     "metadata": {},
     "source": [
      "Unit tests"
     ]
    },
    {
     "cell_type": "heading",
     "level": 2,
     "metadata": {},
     "source": [
      "The full CSVFileReaderClass"
     ]
    },
    {
     "cell_type": "code",
     "collapsed": false,
     "input": [
      "from variable import Variable\n",
      "class CSVFileReader(object):\n",
      "  '''\n",
      "     Reads one or more columns from a comma separated variable file\n",
      "     file a header.\n",
      "  '''\n",
      "  \n",
      "  def __init__(self, filename):\n",
      "    # Input: filename - string of file path to read\n",
      "    self.filename = filename\n",
      "    self.names = []\n",
      "    self.data = {}\n",
      "\n",
      "\n",
      "  def Read(self):\n",
      "    raw_data = {}\n",
      "    raw_names = []\n",
      "    got_header = False\n",
      "    for line in open(self.filename, 'r'):\n",
      "      fields = line.strip().split(\",\")\n",
      "      if not got_header:\n",
      "        for i in range(0, len(fields)):\n",
      "          raw_names.append(fields[i])\n",
      "          raw_data[raw_names[i]] = []\n",
      "        got_header = True\n",
      "      else:\n",
      "        for i in range(0, len(fields)):\n",
      "          raw_data[raw_names[i]].append(float(fields[i]))\n",
      "    for i in range(0, len(raw_names)):\n",
      "      col = raw_names[i]\n",
      "      stripped_col = col.replace(\"'\", \"\")  # remove single quotes\n",
      "      self.data[stripped_col] = Variable(stripped_col, raw_data[col])\n",
      "      self.names.append(stripped_col)\n",
      "\n",
      "  def GetColumnNames(self):\n",
      "    # Returns: list of column names\n",
      "    result = self.names\n",
      "    return(self.names)\n",
      "\n",
      "  def GetColumnData(self, name):\n",
      "    # Returns: Variable associated with the column name\n",
      "    return(self.data[name])\n",
      "\n"
     ],
     "language": "python",
     "metadata": {},
     "outputs": [],
     "prompt_number": 2
    },
    {
     "cell_type": "heading",
     "level": 2,
     "metadata": {},
     "source": [
      "Test for constructor"
     ]
    },
    {
     "cell_type": "code",
     "collapsed": false,
     "input": [
      "FILENAME = \"11_THDPA.csv\"\n",
      "csv = CSVFileReader(FILENAME)\n",
      "if ((csv.filename != FILENAME) & \n",
      "    (len(csv.columns) == 0) & \n",
      "    (len(csv.data) == 0)):\n",
      "  print \"Something's wrong!\"\n",
      "else:\n",
      "  print \"Looks good to me\""
     ],
     "language": "python",
     "metadata": {},
     "outputs": [
      {
       "output_type": "stream",
       "stream": "stdout",
       "text": [
        "Looks good to me\n"
       ]
      }
     ],
     "prompt_number": 40
    },
    {
     "cell_type": "markdown",
     "metadata": {},
     "source": [
      "*But this is a lot of code and is cumbersome to manage*"
     ]
    },
    {
     "cell_type": "heading",
     "level": 1,
     "metadata": {},
     "source": [
      "Python Debugger"
     ]
    },
    {
     "cell_type": "code",
     "collapsed": false,
     "input": [
      "import pdb  # package for the debugger"
     ],
     "language": "python",
     "metadata": {},
     "outputs": [],
     "prompt_number": 42
    },
    {
     "cell_type": "heading",
     "level": 4,
     "metadata": {},
     "source": [
      "Embed call to debugger in the test for the constructor"
     ]
    },
    {
     "cell_type": "code",
     "collapsed": false,
     "input": [
      "FILENAME = \"11_THDPA.csv\"\n",
      "csv = CSVFileReader(FILENAME)\n",
      "if ((csv.filename != FILENAME) or \n",
      "    (len(csv.columns) != 0) or \n",
      "    (len(csv.data) != 0)):\n",
      "  print \"Something's wrong!\"\n",
      "else:\n",
      "  print \"Looks good to me\"\n",
      "pdb.set_trace()  # Stop execution and give control to the debugger"
     ],
     "language": "python",
     "metadata": {},
     "outputs": [
      {
       "output_type": "stream",
       "stream": "stdout",
       "text": [
        "Looks good to me\n",
        "--Call--\n",
        "> /Users/josephhellerstein/anaconda/lib/python2.7/site-packages/IPython/core/displayhook.py(234)__call__()\n",
        "-> def __call__(self, result=None):\n"
       ]
      },
      {
       "name": "stdout",
       "output_type": "stream",
       "stream": "stdout",
       "text": [
        "(Pdb) print csv.data\n"
       ]
      },
      {
       "output_type": "stream",
       "stream": "stdout",
       "text": [
        "*** NameError: name 'csv' is not defined\n"
       ]
      },
      {
       "name": "stdout",
       "output_type": "stream",
       "stream": "stdout",
       "text": [
        "(Pdb) dir(csv)\n"
       ]
      },
      {
       "output_type": "stream",
       "stream": "stdout",
       "text": [
        "*** NameError: name 'csv' is not defined\n"
       ]
      },
      {
       "name": "stdout",
       "output_type": "stream",
       "stream": "stdout",
       "text": [
        "(Pdb) FILENAME\n"
       ]
      },
      {
       "output_type": "stream",
       "stream": "stdout",
       "text": [
        "*** NameError: name 'FILENAME' is not defined\n"
       ]
      },
      {
       "name": "stdout",
       "output_type": "stream",
       "stream": "stdout",
       "text": [
        "(Pdb) c\n"
       ]
      }
     ],
     "prompt_number": 45
    },
    {
     "cell_type": "code",
     "collapsed": false,
     "input": [
      "dir(csv)"
     ],
     "language": "python",
     "metadata": {},
     "outputs": [
      {
       "metadata": {},
       "output_type": "pyout",
       "prompt_number": 46,
       "text": [
        "['Read',\n",
        " '__class__',\n",
        " '__delattr__',\n",
        " '__dict__',\n",
        " '__doc__',\n",
        " '__format__',\n",
        " '__getattribute__',\n",
        " '__hash__',\n",
        " '__init__',\n",
        " '__module__',\n",
        " '__new__',\n",
        " '__reduce__',\n",
        " '__reduce_ex__',\n",
        " '__repr__',\n",
        " '__setattr__',\n",
        " '__sizeof__',\n",
        " '__str__',\n",
        " '__subclasshook__',\n",
        " '__weakref__',\n",
        " 'columns',\n",
        " 'data',\n",
        " 'filename']"
       ]
      }
     ],
     "prompt_number": 46
    },
    {
     "cell_type": "heading",
     "level": 1,
     "metadata": {},
     "source": [
      "Testing"
     ]
    },
    {
     "cell_type": "code",
     "collapsed": false,
     "input": [
      "import unittest\n",
      "class TestCSVFileReader(unittest.TestCase):\n",
      "\n",
      "  def testConstructor(self):\n",
      "    self.csv = CSVFileReader(FILENAME)\n",
      "    self.assertTrue(self.csv.filename == \n",
      "        FILENAME, \"Wrong filename\")\n",
      "    self.assertTrue(len(self.csv.names) == \n",
      "        0, \"Bad names\")\n",
      "\n"
     ],
     "language": "python",
     "metadata": {},
     "outputs": [],
     "prompt_number": 41
    },
    {
     "cell_type": "code",
     "collapsed": false,
     "input": [],
     "language": "python",
     "metadata": {},
     "outputs": []
    }
   ],
   "metadata": {}
  }
 ]
}